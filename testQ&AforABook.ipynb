{
  "nbformat": 4,
  "nbformat_minor": 0,
  "metadata": {
    "colab": {
      "provenance": [],
      "mount_file_id": "1KCwWlTuKbyeEOgQFuzW9QxSgRisMNV_X",
      "authorship_tag": "ABX9TyMEm1pfG3N+gA+DMZxW5Xuj",
      "include_colab_link": true
    },
    "kernelspec": {
      "name": "python3",
      "display_name": "Python 3"
    },
    "language_info": {
      "name": "python"
    }
  },
  "cells": [
    {
      "cell_type": "markdown",
      "metadata": {
        "id": "view-in-github",
        "colab_type": "text"
      },
      "source": [
        "<a href=\"https://colab.research.google.com/github/hehuan2363/CanadaInnovationProposal/blob/main/testQ%26AforABook.ipynb\" target=\"_parent\"><img src=\"https://colab.research.google.com/assets/colab-badge.svg\" alt=\"Open In Colab\"/></a>"
      ]
    },
    {
      "cell_type": "code",
      "execution_count": 1,
      "metadata": {
        "colab": {
          "base_uri": "https://localhost:8080/"
        },
        "id": "K7FChtlasN7V",
        "outputId": "30cfd2e9-f74b-4893-cb5e-016abbdc1ce2"
      },
      "outputs": [
        {
          "output_type": "stream",
          "name": "stdout",
          "text": [
            "Looking in indexes: https://pypi.org/simple, https://us-python.pkg.dev/colab-wheels/public/simple/\n",
            "Requirement already satisfied: unstructured[local-inference] in /usr/local/lib/python3.9/dist-packages (0.5.12)\n",
            "Requirement already satisfied: openpyxl in /usr/local/lib/python3.9/dist-packages (from unstructured[local-inference]) (3.0.10)\n",
            "Requirement already satisfied: pandas in /usr/local/lib/python3.9/dist-packages (from unstructured[local-inference]) (1.5.3)\n",
            "Requirement already satisfied: lxml in /usr/local/lib/python3.9/dist-packages (from unstructured[local-inference]) (4.9.2)\n",
            "Requirement already satisfied: markdown in /usr/local/lib/python3.9/dist-packages (from unstructured[local-inference]) (3.4.3)\n",
            "Requirement already satisfied: nltk in /usr/local/lib/python3.9/dist-packages (from unstructured[local-inference]) (3.8.1)\n",
            "Requirement already satisfied: msg-parser in /usr/local/lib/python3.9/dist-packages (from unstructured[local-inference]) (1.2.0)\n",
            "Requirement already satisfied: requests in /usr/local/lib/python3.9/dist-packages (from unstructured[local-inference]) (2.27.1)\n",
            "Requirement already satisfied: python-magic in /usr/local/lib/python3.9/dist-packages (from unstructured[local-inference]) (0.4.27)\n",
            "Requirement already satisfied: pillow in /usr/local/lib/python3.9/dist-packages (from unstructured[local-inference]) (9.5.0)\n",
            "Requirement already satisfied: certifi>=2022.12.07 in /usr/local/lib/python3.9/dist-packages (from unstructured[local-inference]) (2022.12.7)\n",
            "Requirement already satisfied: pypandoc in /usr/local/lib/python3.9/dist-packages (from unstructured[local-inference]) (1.11)\n",
            "Requirement already satisfied: argilla in /usr/local/lib/python3.9/dist-packages (from unstructured[local-inference]) (1.6.0)\n",
            "Requirement already satisfied: python-docx in /usr/local/lib/python3.9/dist-packages (from unstructured[local-inference]) (0.8.11)\n",
            "Requirement already satisfied: python-pptx in /usr/local/lib/python3.9/dist-packages (from unstructured[local-inference]) (0.6.21)\n",
            "Requirement already satisfied: unstructured-inference==0.3.2 in /usr/local/lib/python3.9/dist-packages (from unstructured[local-inference]) (0.3.2)\n",
            "Requirement already satisfied: huggingface-hub in /usr/local/lib/python3.9/dist-packages (from unstructured-inference==0.3.2->unstructured[local-inference]) (0.13.4)\n",
            "Requirement already satisfied: layoutparser[layoutmodels,tesseract] in /usr/local/lib/python3.9/dist-packages (from unstructured-inference==0.3.2->unstructured[local-inference]) (0.3.4)\n",
            "Requirement already satisfied: python-multipart in /usr/local/lib/python3.9/dist-packages (from unstructured-inference==0.3.2->unstructured[local-inference]) (0.0.6)\n",
            "Requirement already satisfied: uvicorn in /usr/local/lib/python3.9/dist-packages (from unstructured-inference==0.3.2->unstructured[local-inference]) (0.21.1)\n",
            "Requirement already satisfied: transformers in /usr/local/lib/python3.9/dist-packages (from unstructured-inference==0.3.2->unstructured[local-inference]) (4.28.1)\n",
            "Requirement already satisfied: opencv-python==4.6.0.66 in /usr/local/lib/python3.9/dist-packages (from unstructured-inference==0.3.2->unstructured[local-inference]) (4.6.0.66)\n",
            "Requirement already satisfied: onnxruntime in /usr/local/lib/python3.9/dist-packages (from unstructured-inference==0.3.2->unstructured[local-inference]) (1.14.1)\n",
            "Requirement already satisfied: fastapi in /usr/local/lib/python3.9/dist-packages (from unstructured-inference==0.3.2->unstructured[local-inference]) (0.95.1)\n",
            "Requirement already satisfied: numpy>=1.19.3 in /usr/local/lib/python3.9/dist-packages (from opencv-python==4.6.0.66->unstructured-inference==0.3.2->unstructured[local-inference]) (1.22.4)\n",
            "Requirement already satisfied: backoff in /usr/local/lib/python3.9/dist-packages (from argilla->unstructured[local-inference]) (2.2.1)\n",
            "Requirement already satisfied: monotonic in /usr/local/lib/python3.9/dist-packages (from argilla->unstructured[local-inference]) (1.6)\n",
            "Requirement already satisfied: deprecated~=1.2.0 in /usr/local/lib/python3.9/dist-packages (from argilla->unstructured[local-inference]) (1.2.13)\n",
            "Requirement already satisfied: rich<=13.0.1 in /usr/local/lib/python3.9/dist-packages (from argilla->unstructured[local-inference]) (13.0.1)\n",
            "Requirement already satisfied: tqdm>=4.27.0 in /usr/local/lib/python3.9/dist-packages (from argilla->unstructured[local-inference]) (4.65.0)\n",
            "Requirement already satisfied: httpx<0.24,>=0.15 in /usr/local/lib/python3.9/dist-packages (from argilla->unstructured[local-inference]) (0.23.3)\n",
            "Requirement already satisfied: wrapt<1.15,>=1.13 in /usr/local/lib/python3.9/dist-packages (from argilla->unstructured[local-inference]) (1.14.1)\n",
            "Requirement already satisfied: pydantic>=1.7.1 in /usr/local/lib/python3.9/dist-packages (from argilla->unstructured[local-inference]) (1.10.7)\n",
            "Requirement already satisfied: packaging>=20.0 in /usr/local/lib/python3.9/dist-packages (from argilla->unstructured[local-inference]) (23.0)\n",
            "Requirement already satisfied: python-dateutil>=2.8.1 in /usr/local/lib/python3.9/dist-packages (from pandas->unstructured[local-inference]) (2.8.2)\n",
            "Requirement already satisfied: pytz>=2020.1 in /usr/local/lib/python3.9/dist-packages (from pandas->unstructured[local-inference]) (2022.7.1)\n",
            "Requirement already satisfied: importlib-metadata>=4.4 in /usr/local/lib/python3.9/dist-packages (from markdown->unstructured[local-inference]) (6.3.0)\n",
            "Requirement already satisfied: olefile>=0.46 in /usr/local/lib/python3.9/dist-packages (from msg-parser->unstructured[local-inference]) (0.46)\n",
            "Requirement already satisfied: regex>=2021.8.3 in /usr/local/lib/python3.9/dist-packages (from nltk->unstructured[local-inference]) (2022.10.31)\n",
            "Requirement already satisfied: joblib in /usr/local/lib/python3.9/dist-packages (from nltk->unstructured[local-inference]) (1.2.0)\n",
            "Requirement already satisfied: click in /usr/local/lib/python3.9/dist-packages (from nltk->unstructured[local-inference]) (8.1.3)\n",
            "Requirement already satisfied: et-xmlfile in /usr/local/lib/python3.9/dist-packages (from openpyxl->unstructured[local-inference]) (1.1.0)\n",
            "Requirement already satisfied: XlsxWriter>=0.5.7 in /usr/local/lib/python3.9/dist-packages (from python-pptx->unstructured[local-inference]) (3.1.0)\n",
            "Requirement already satisfied: idna<4,>=2.5 in /usr/local/lib/python3.9/dist-packages (from requests->unstructured[local-inference]) (3.4)\n",
            "Requirement already satisfied: charset-normalizer~=2.0.0 in /usr/local/lib/python3.9/dist-packages (from requests->unstructured[local-inference]) (2.0.12)\n",
            "Requirement already satisfied: urllib3<1.27,>=1.21.1 in /usr/local/lib/python3.9/dist-packages (from requests->unstructured[local-inference]) (1.26.15)\n",
            "Requirement already satisfied: httpcore<0.17.0,>=0.15.0 in /usr/local/lib/python3.9/dist-packages (from httpx<0.24,>=0.15->argilla->unstructured[local-inference]) (0.16.3)\n",
            "Requirement already satisfied: rfc3986[idna2008]<2,>=1.3 in /usr/local/lib/python3.9/dist-packages (from httpx<0.24,>=0.15->argilla->unstructured[local-inference]) (1.5.0)\n",
            "Requirement already satisfied: sniffio in /usr/local/lib/python3.9/dist-packages (from httpx<0.24,>=0.15->argilla->unstructured[local-inference]) (1.3.0)\n",
            "Requirement already satisfied: zipp>=0.5 in /usr/local/lib/python3.9/dist-packages (from importlib-metadata>=4.4->markdown->unstructured[local-inference]) (3.15.0)\n",
            "Requirement already satisfied: typing-extensions>=4.2.0 in /usr/local/lib/python3.9/dist-packages (from pydantic>=1.7.1->argilla->unstructured[local-inference]) (4.5.0)\n",
            "Requirement already satisfied: six>=1.5 in /usr/local/lib/python3.9/dist-packages (from python-dateutil>=2.8.1->pandas->unstructured[local-inference]) (1.16.0)\n",
            "Requirement already satisfied: commonmark<0.10.0,>=0.9.0 in /usr/local/lib/python3.9/dist-packages (from rich<=13.0.1->argilla->unstructured[local-inference]) (0.9.1)\n",
            "Requirement already satisfied: pygments<3.0.0,>=2.6.0 in /usr/local/lib/python3.9/dist-packages (from rich<=13.0.1->argilla->unstructured[local-inference]) (2.14.0)\n",
            "Requirement already satisfied: starlette<0.27.0,>=0.26.1 in /usr/local/lib/python3.9/dist-packages (from fastapi->unstructured-inference==0.3.2->unstructured[local-inference]) (0.26.1)\n",
            "Requirement already satisfied: pyyaml>=5.1 in /usr/local/lib/python3.9/dist-packages (from huggingface-hub->unstructured-inference==0.3.2->unstructured[local-inference]) (6.0)\n",
            "Requirement already satisfied: filelock in /usr/local/lib/python3.9/dist-packages (from huggingface-hub->unstructured-inference==0.3.2->unstructured[local-inference]) (3.11.0)\n",
            "Requirement already satisfied: iopath in /usr/local/lib/python3.9/dist-packages (from layoutparser[layoutmodels,tesseract]->unstructured-inference==0.3.2->unstructured[local-inference]) (0.1.10)\n",
            "Requirement already satisfied: pdf2image in /usr/local/lib/python3.9/dist-packages (from layoutparser[layoutmodels,tesseract]->unstructured-inference==0.3.2->unstructured[local-inference]) (1.16.3)\n",
            "Requirement already satisfied: pdfplumber in /usr/local/lib/python3.9/dist-packages (from layoutparser[layoutmodels,tesseract]->unstructured-inference==0.3.2->unstructured[local-inference]) (0.9.0)\n",
            "Requirement already satisfied: scipy in /usr/local/lib/python3.9/dist-packages (from layoutparser[layoutmodels,tesseract]->unstructured-inference==0.3.2->unstructured[local-inference]) (1.10.1)\n",
            "Requirement already satisfied: pytesseract in /usr/local/lib/python3.9/dist-packages (from layoutparser[layoutmodels,tesseract]->unstructured-inference==0.3.2->unstructured[local-inference]) (0.3.10)\n",
            "Requirement already satisfied: torch in /usr/local/lib/python3.9/dist-packages (from layoutparser[layoutmodels,tesseract]->unstructured-inference==0.3.2->unstructured[local-inference]) (2.0.0+cu118)\n",
            "Requirement already satisfied: torchvision in /usr/local/lib/python3.9/dist-packages (from layoutparser[layoutmodels,tesseract]->unstructured-inference==0.3.2->unstructured[local-inference]) (0.15.1+cu118)\n",
            "Requirement already satisfied: effdet in /usr/local/lib/python3.9/dist-packages (from layoutparser[layoutmodels,tesseract]->unstructured-inference==0.3.2->unstructured[local-inference]) (0.3.0)\n",
            "Requirement already satisfied: protobuf in /usr/local/lib/python3.9/dist-packages (from onnxruntime->unstructured-inference==0.3.2->unstructured[local-inference]) (3.20.3)\n",
            "Requirement already satisfied: flatbuffers in /usr/local/lib/python3.9/dist-packages (from onnxruntime->unstructured-inference==0.3.2->unstructured[local-inference]) (23.3.3)\n",
            "Requirement already satisfied: sympy in /usr/local/lib/python3.9/dist-packages (from onnxruntime->unstructured-inference==0.3.2->unstructured[local-inference]) (1.11.1)\n",
            "Requirement already satisfied: coloredlogs in /usr/local/lib/python3.9/dist-packages (from onnxruntime->unstructured-inference==0.3.2->unstructured[local-inference]) (15.0.1)\n",
            "Requirement already satisfied: tokenizers!=0.11.3,<0.14,>=0.11.1 in /usr/local/lib/python3.9/dist-packages (from transformers->unstructured-inference==0.3.2->unstructured[local-inference]) (0.13.3)\n",
            "Requirement already satisfied: h11>=0.8 in /usr/local/lib/python3.9/dist-packages (from uvicorn->unstructured-inference==0.3.2->unstructured[local-inference]) (0.14.0)\n",
            "Requirement already satisfied: anyio<5.0,>=3.0 in /usr/local/lib/python3.9/dist-packages (from httpcore<0.17.0,>=0.15.0->httpx<0.24,>=0.15->argilla->unstructured[local-inference]) (3.6.2)\n",
            "Requirement already satisfied: humanfriendly>=9.1 in /usr/local/lib/python3.9/dist-packages (from coloredlogs->onnxruntime->unstructured-inference==0.3.2->unstructured[local-inference]) (10.0)\n",
            "Requirement already satisfied: timm>=0.4.12 in /usr/local/lib/python3.9/dist-packages (from effdet->layoutparser[layoutmodels,tesseract]->unstructured-inference==0.3.2->unstructured[local-inference]) (0.6.13)\n",
            "Requirement already satisfied: omegaconf>=2.0 in /usr/local/lib/python3.9/dist-packages (from effdet->layoutparser[layoutmodels,tesseract]->unstructured-inference==0.3.2->unstructured[local-inference]) (2.3.0)\n",
            "Requirement already satisfied: pycocotools>=2.0.2 in /usr/local/lib/python3.9/dist-packages (from effdet->layoutparser[layoutmodels,tesseract]->unstructured-inference==0.3.2->unstructured[local-inference]) (2.0.6)\n",
            "Requirement already satisfied: triton==2.0.0 in /usr/local/lib/python3.9/dist-packages (from torch->layoutparser[layoutmodels,tesseract]->unstructured-inference==0.3.2->unstructured[local-inference]) (2.0.0)\n",
            "Requirement already satisfied: jinja2 in /usr/local/lib/python3.9/dist-packages (from torch->layoutparser[layoutmodels,tesseract]->unstructured-inference==0.3.2->unstructured[local-inference]) (3.1.2)\n",
            "Requirement already satisfied: networkx in /usr/local/lib/python3.9/dist-packages (from torch->layoutparser[layoutmodels,tesseract]->unstructured-inference==0.3.2->unstructured[local-inference]) (3.1)\n",
            "Requirement already satisfied: lit in /usr/local/lib/python3.9/dist-packages (from triton==2.0.0->torch->layoutparser[layoutmodels,tesseract]->unstructured-inference==0.3.2->unstructured[local-inference]) (16.0.1)\n",
            "Requirement already satisfied: cmake in /usr/local/lib/python3.9/dist-packages (from triton==2.0.0->torch->layoutparser[layoutmodels,tesseract]->unstructured-inference==0.3.2->unstructured[local-inference]) (3.25.2)\n",
            "Requirement already satisfied: portalocker in /usr/local/lib/python3.9/dist-packages (from iopath->layoutparser[layoutmodels,tesseract]->unstructured-inference==0.3.2->unstructured[local-inference]) (2.7.0)\n",
            "Requirement already satisfied: pdfminer.six==20221105 in /usr/local/lib/python3.9/dist-packages (from pdfplumber->layoutparser[layoutmodels,tesseract]->unstructured-inference==0.3.2->unstructured[local-inference]) (20221105)\n",
            "Requirement already satisfied: Wand>=0.6.10 in /usr/local/lib/python3.9/dist-packages (from pdfplumber->layoutparser[layoutmodels,tesseract]->unstructured-inference==0.3.2->unstructured[local-inference]) (0.6.11)\n",
            "Requirement already satisfied: cryptography>=36.0.0 in /usr/local/lib/python3.9/dist-packages (from pdfminer.six==20221105->pdfplumber->layoutparser[layoutmodels,tesseract]->unstructured-inference==0.3.2->unstructured[local-inference]) (40.0.1)\n",
            "Requirement already satisfied: mpmath>=0.19 in /usr/local/lib/python3.9/dist-packages (from sympy->onnxruntime->unstructured-inference==0.3.2->unstructured[local-inference]) (1.3.0)\n",
            "Requirement already satisfied: antlr4-python3-runtime==4.9.* in /usr/local/lib/python3.9/dist-packages (from omegaconf>=2.0->effdet->layoutparser[layoutmodels,tesseract]->unstructured-inference==0.3.2->unstructured[local-inference]) (4.9.3)\n",
            "Requirement already satisfied: matplotlib>=2.1.0 in /usr/local/lib/python3.9/dist-packages (from pycocotools>=2.0.2->effdet->layoutparser[layoutmodels,tesseract]->unstructured-inference==0.3.2->unstructured[local-inference]) (3.7.1)\n",
            "Requirement already satisfied: MarkupSafe>=2.0 in /usr/local/lib/python3.9/dist-packages (from jinja2->torch->layoutparser[layoutmodels,tesseract]->unstructured-inference==0.3.2->unstructured[local-inference]) (2.1.2)\n",
            "Requirement already satisfied: cffi>=1.12 in /usr/local/lib/python3.9/dist-packages (from cryptography>=36.0.0->pdfminer.six==20221105->pdfplumber->layoutparser[layoutmodels,tesseract]->unstructured-inference==0.3.2->unstructured[local-inference]) (1.15.1)\n",
            "Requirement already satisfied: contourpy>=1.0.1 in /usr/local/lib/python3.9/dist-packages (from matplotlib>=2.1.0->pycocotools>=2.0.2->effdet->layoutparser[layoutmodels,tesseract]->unstructured-inference==0.3.2->unstructured[local-inference]) (1.0.7)\n",
            "Requirement already satisfied: pyparsing>=2.3.1 in /usr/local/lib/python3.9/dist-packages (from matplotlib>=2.1.0->pycocotools>=2.0.2->effdet->layoutparser[layoutmodels,tesseract]->unstructured-inference==0.3.2->unstructured[local-inference]) (3.0.9)\n",
            "Requirement already satisfied: cycler>=0.10 in /usr/local/lib/python3.9/dist-packages (from matplotlib>=2.1.0->pycocotools>=2.0.2->effdet->layoutparser[layoutmodels,tesseract]->unstructured-inference==0.3.2->unstructured[local-inference]) (0.11.0)\n",
            "Requirement already satisfied: kiwisolver>=1.0.1 in /usr/local/lib/python3.9/dist-packages (from matplotlib>=2.1.0->pycocotools>=2.0.2->effdet->layoutparser[layoutmodels,tesseract]->unstructured-inference==0.3.2->unstructured[local-inference]) (1.4.4)\n",
            "Requirement already satisfied: importlib-resources>=3.2.0 in /usr/local/lib/python3.9/dist-packages (from matplotlib>=2.1.0->pycocotools>=2.0.2->effdet->layoutparser[layoutmodels,tesseract]->unstructured-inference==0.3.2->unstructured[local-inference]) (5.12.0)\n",
            "Requirement already satisfied: fonttools>=4.22.0 in /usr/local/lib/python3.9/dist-packages (from matplotlib>=2.1.0->pycocotools>=2.0.2->effdet->layoutparser[layoutmodels,tesseract]->unstructured-inference==0.3.2->unstructured[local-inference]) (4.39.3)\n",
            "Requirement already satisfied: pycparser in /usr/local/lib/python3.9/dist-packages (from cffi>=1.12->cryptography>=36.0.0->pdfminer.six==20221105->pdfplumber->layoutparser[layoutmodels,tesseract]->unstructured-inference==0.3.2->unstructured[local-inference]) (2.21)\n"
          ]
        }
      ],
      "source": [
        "!pip install -qU langchain openai\n",
        "!pip install unstructured[local-inference]"
      ]
    },
    {
      "cell_type": "code",
      "source": [
        "!pip install tiktoken"
      ],
      "metadata": {
        "colab": {
          "base_uri": "https://localhost:8080/"
        },
        "id": "wOyjH3K4M1SM",
        "outputId": "bf4c15dd-b354-4499-9254-32582f2ee4cc"
      },
      "execution_count": 20,
      "outputs": [
        {
          "output_type": "stream",
          "name": "stdout",
          "text": [
            "Looking in indexes: https://pypi.org/simple, https://us-python.pkg.dev/colab-wheels/public/simple/\n",
            "Collecting tiktoken\n",
            "  Downloading tiktoken-0.3.3-cp39-cp39-manylinux_2_17_x86_64.manylinux2014_x86_64.whl (1.7 MB)\n",
            "\u001b[2K     \u001b[90m━━━━━━━━━━━━━━━━━━━━━━━━━━━━━━━━━━━━━━━━\u001b[0m \u001b[32m1.7/1.7 MB\u001b[0m \u001b[31m17.2 MB/s\u001b[0m eta \u001b[36m0:00:00\u001b[0m\n",
            "\u001b[?25hRequirement already satisfied: requests>=2.26.0 in /usr/local/lib/python3.9/dist-packages (from tiktoken) (2.27.1)\n",
            "Requirement already satisfied: regex>=2022.1.18 in /usr/local/lib/python3.9/dist-packages (from tiktoken) (2022.10.31)\n",
            "Requirement already satisfied: urllib3<1.27,>=1.21.1 in /usr/local/lib/python3.9/dist-packages (from requests>=2.26.0->tiktoken) (1.26.15)\n",
            "Requirement already satisfied: charset-normalizer~=2.0.0 in /usr/local/lib/python3.9/dist-packages (from requests>=2.26.0->tiktoken) (2.0.12)\n",
            "Requirement already satisfied: certifi>=2017.4.17 in /usr/local/lib/python3.9/dist-packages (from requests>=2.26.0->tiktoken) (2022.12.7)\n",
            "Requirement already satisfied: idna<4,>=2.5 in /usr/local/lib/python3.9/dist-packages (from requests>=2.26.0->tiktoken) (3.4)\n",
            "Installing collected packages: tiktoken\n",
            "Successfully installed tiktoken-0.3.3\n"
          ]
        }
      ]
    },
    {
      "cell_type": "code",
      "source": [
        "from getpass import getpass\n",
        "\n",
        "OPENAI_API_KEY=getpass(\"OpenAI API Key: \")\n"
      ],
      "metadata": {
        "colab": {
          "base_uri": "https://localhost:8080/"
        },
        "id": "FF-MS81osia8",
        "outputId": "e2fb55c6-3aa8-4cce-825e-498f1dfb5119"
      },
      "execution_count": 2,
      "outputs": [
        {
          "name": "stdout",
          "output_type": "stream",
          "text": [
            "OpenAI API Key: ··········\n"
          ]
        }
      ]
    },
    {
      "cell_type": "code",
      "source": [
        "from langchain.document_loaders import UnstructuredPDFLoader, OnlinePDFLoader\n",
        "from langchain.text_splitter import RecursiveCharacterTextSplitter"
      ],
      "metadata": {
        "id": "BeNy055Lso4O"
      },
      "execution_count": 4,
      "outputs": []
    },
    {
      "cell_type": "code",
      "source": [
        "# connect your Google Drive\n",
        "from google.colab import drive\n",
        "drive.mount('/content/gdrive', force_remount=True)\n",
        "root_dir = \"/content/gdrive/My Drive/\""
      ],
      "metadata": {
        "colab": {
          "base_uri": "https://localhost:8080/"
        },
        "id": "VTWMnSPytmOD",
        "outputId": "ca448e6d-57b5-4c36-e7d8-c762e4e68616"
      },
      "execution_count": 5,
      "outputs": [
        {
          "output_type": "stream",
          "name": "stdout",
          "text": [
            "Mounted at /content/gdrive\n"
          ]
        }
      ]
    },
    {
      "cell_type": "code",
      "source": [
        "#loader = OnlinePDFLoader(\"https://wolfpaulus.com/wp-content/uploads/2017/05/field-guide-to-data-science.pdf\")"
      ],
      "metadata": {
        "id": "-Dd8_P9gspq_"
      },
      "execution_count": null,
      "outputs": []
    },
    {
      "cell_type": "code",
      "source": [
        "loader = UnstructuredPDFLoader(root_dir+ \"field-guide-to-data-science.pdf\")"
      ],
      "metadata": {
        "id": "bl_Yx3GFuR_9"
      },
      "execution_count": 6,
      "outputs": []
    },
    {
      "cell_type": "code",
      "source": [
        "root_dir+ \"field-guide-to-data-science.pdf\""
      ],
      "metadata": {
        "colab": {
          "base_uri": "https://localhost:8080/",
          "height": 35
        },
        "id": "NDOiycG7vYu3",
        "outputId": "c848803e-4a38-409e-c26a-45ad682c20bb"
      },
      "execution_count": 7,
      "outputs": [
        {
          "output_type": "execute_result",
          "data": {
            "text/plain": [
              "'/content/gdrive/My Drive/field-guide-to-data-science.pdf'"
            ],
            "application/vnd.google.colaboratory.intrinsic+json": {
              "type": "string"
            }
          },
          "metadata": {},
          "execution_count": 7
        }
      ]
    },
    {
      "cell_type": "code",
      "source": [
        "data = loader.load()"
      ],
      "metadata": {
        "colab": {
          "base_uri": "https://localhost:8080/"
        },
        "id": "EbmD4HKQszuS",
        "outputId": "196818fb-6330-428d-e824-707dd0e25133"
      },
      "execution_count": 8,
      "outputs": [
        {
          "output_type": "stream",
          "name": "stderr",
          "text": [
            "[nltk_data] Downloading package punkt to /root/nltk_data...\n",
            "[nltk_data]   Unzipping tokenizers/punkt.zip.\n",
            "[nltk_data] Downloading package averaged_perceptron_tagger to\n",
            "[nltk_data]     /root/nltk_data...\n",
            "[nltk_data]   Unzipping taggers/averaged_perceptron_tagger.zip.\n",
            "WARNING:unstructured:detectron2 is not installed. Cannot use the hi_res partitioning strategy. Falling back to partitioning with the fast strategy.\n"
          ]
        }
      ]
    },
    {
      "cell_type": "code",
      "source": [
        "print (f'You have {len(data)} document(s) in your data')\n",
        "print (f'There are {len(data[0].page_content)} characters in your document')"
      ],
      "metadata": {
        "id": "L4LnTrfQs3Cb",
        "colab": {
          "base_uri": "https://localhost:8080/"
        },
        "outputId": "20eba9d0-dee2-4759-8fc7-39581ac82042"
      },
      "execution_count": 9,
      "outputs": [
        {
          "output_type": "stream",
          "name": "stdout",
          "text": [
            "You have 1 document(s) in your data\n",
            "There are 201014 characters in your document\n"
          ]
        }
      ]
    },
    {
      "cell_type": "code",
      "source": [
        "text_splitter = RecursiveCharacterTextSplitter(chunk_size=1000, chunk_overlap=20)"
      ],
      "metadata": {
        "id": "_jby5bdZwQkf"
      },
      "execution_count": 10,
      "outputs": []
    },
    {
      "cell_type": "code",
      "source": [
        "texts = text_splitter.split_documents(data)"
      ],
      "metadata": {
        "id": "Q4TzLwZkwVjA"
      },
      "execution_count": 11,
      "outputs": []
    },
    {
      "cell_type": "code",
      "source": [
        "print (f'Now you have {len(texts)} documents')"
      ],
      "metadata": {
        "colab": {
          "base_uri": "https://localhost:8080/"
        },
        "id": "Cj13_rN6wYMt",
        "outputId": "054e2806-a7cf-4a9e-eff4-e89c4a98dd89"
      },
      "execution_count": 12,
      "outputs": [
        {
          "output_type": "stream",
          "name": "stdout",
          "text": [
            "Now you have 240 documents\n"
          ]
        }
      ]
    },
    {
      "cell_type": "markdown",
      "source": [
        "Creat embedding now\n"
      ],
      "metadata": {
        "id": "LBFtzkikwbt8"
      }
    },
    {
      "cell_type": "code",
      "source": [
        "!pip install pinecone-client"
      ],
      "metadata": {
        "colab": {
          "base_uri": "https://localhost:8080/"
        },
        "id": "X5-Pr2PNwns5",
        "outputId": "322e1331-8f0a-474f-d336-5ca320c8b867"
      },
      "execution_count": 13,
      "outputs": [
        {
          "output_type": "stream",
          "name": "stdout",
          "text": [
            "Looking in indexes: https://pypi.org/simple, https://us-python.pkg.dev/colab-wheels/public/simple/\n",
            "Collecting pinecone-client\n",
            "  Downloading pinecone_client-2.2.1-py3-none-any.whl (177 kB)\n",
            "\u001b[2K     \u001b[90m━━━━━━━━━━━━━━━━━━━━━━━━━━━━━━━━━━━━━━━\u001b[0m \u001b[32m177.2/177.2 kB\u001b[0m \u001b[31m4.6 MB/s\u001b[0m eta \u001b[36m0:00:00\u001b[0m\n",
            "\u001b[?25hRequirement already satisfied: pyyaml>=5.4 in /usr/local/lib/python3.9/dist-packages (from pinecone-client) (6.0)\n",
            "Collecting loguru>=0.5.0\n",
            "  Downloading loguru-0.7.0-py3-none-any.whl (59 kB)\n",
            "\u001b[2K     \u001b[90m━━━━━━━━━━━━━━━━━━━━━━━━━━━━━━━━━━━━━━━━\u001b[0m \u001b[32m60.0/60.0 kB\u001b[0m \u001b[31m6.8 MB/s\u001b[0m eta \u001b[36m0:00:00\u001b[0m\n",
            "\u001b[?25hRequirement already satisfied: python-dateutil>=2.5.3 in /usr/local/lib/python3.9/dist-packages (from pinecone-client) (2.8.2)\n",
            "Collecting dnspython>=2.0.0\n",
            "  Downloading dnspython-2.3.0-py3-none-any.whl (283 kB)\n",
            "\u001b[2K     \u001b[90m━━━━━━━━━━━━━━━━━━━━━━━━━━━━━━━━━━━━━━\u001b[0m \u001b[32m283.7/283.7 kB\u001b[0m \u001b[31m15.6 MB/s\u001b[0m eta \u001b[36m0:00:00\u001b[0m\n",
            "\u001b[?25hRequirement already satisfied: numpy in /usr/local/lib/python3.9/dist-packages (from pinecone-client) (1.22.4)\n",
            "Requirement already satisfied: typing-extensions>=3.7.4 in /usr/local/lib/python3.9/dist-packages (from pinecone-client) (4.5.0)\n",
            "Requirement already satisfied: tqdm>=4.64.1 in /usr/local/lib/python3.9/dist-packages (from pinecone-client) (4.65.0)\n",
            "Requirement already satisfied: urllib3>=1.21.1 in /usr/local/lib/python3.9/dist-packages (from pinecone-client) (1.26.15)\n",
            "Requirement already satisfied: requests>=2.19.0 in /usr/local/lib/python3.9/dist-packages (from pinecone-client) (2.27.1)\n",
            "Requirement already satisfied: six>=1.5 in /usr/local/lib/python3.9/dist-packages (from python-dateutil>=2.5.3->pinecone-client) (1.16.0)\n",
            "Requirement already satisfied: charset-normalizer~=2.0.0 in /usr/local/lib/python3.9/dist-packages (from requests>=2.19.0->pinecone-client) (2.0.12)\n",
            "Requirement already satisfied: idna<4,>=2.5 in /usr/local/lib/python3.9/dist-packages (from requests>=2.19.0->pinecone-client) (3.4)\n",
            "Requirement already satisfied: certifi>=2017.4.17 in /usr/local/lib/python3.9/dist-packages (from requests>=2.19.0->pinecone-client) (2022.12.7)\n",
            "Installing collected packages: loguru, dnspython, pinecone-client\n",
            "Successfully installed dnspython-2.3.0 loguru-0.7.0 pinecone-client-2.2.1\n"
          ]
        }
      ]
    },
    {
      "cell_type": "code",
      "source": [
        "from langchain.vectorstores import Chroma, Pinecone\n",
        "from langchain.embeddings.openai import OpenAIEmbeddings\n",
        "import pinecone"
      ],
      "metadata": {
        "colab": {
          "base_uri": "https://localhost:8080/"
        },
        "id": "yTzFGwXFwhzD",
        "outputId": "8bb77931-9d6b-44b1-e76d-2b960b79b00b"
      },
      "execution_count": 14,
      "outputs": [
        {
          "output_type": "stream",
          "name": "stderr",
          "text": [
            "/usr/local/lib/python3.9/dist-packages/pinecone/index.py:4: TqdmExperimentalWarning: Using `tqdm.autonotebook.tqdm` in notebook mode. Use `tqdm.tqdm` instead to force console mode (e.g. in jupyter console)\n",
            "  from tqdm.autonotebook import tqdm\n"
          ]
        }
      ]
    },
    {
      "cell_type": "code",
      "source": [
        "PINECONE_API_KEY = getpass(\"PINECONE_API_KEY: \")\n"
      ],
      "metadata": {
        "colab": {
          "base_uri": "https://localhost:8080/"
        },
        "id": "y_v2uu7UKW3q",
        "outputId": "64cd6ccb-20d0-467a-b2f8-fcf141cab9d4"
      },
      "execution_count": 15,
      "outputs": [
        {
          "name": "stdout",
          "output_type": "stream",
          "text": [
            "PINECONE_API_KEY: ··········\n"
          ]
        }
      ]
    },
    {
      "cell_type": "code",
      "source": [
        "PINECONE_API_ENV = 'us-east1-gcp'"
      ],
      "metadata": {
        "id": "vfSQjlMWL5et"
      },
      "execution_count": 16,
      "outputs": []
    },
    {
      "cell_type": "code",
      "source": [
        "# initialize pinecone\n",
        "pinecone.init(\n",
        "    api_key=PINECONE_API_KEY,  # find at app.pinecone.io\n",
        "    environment=PINECONE_API_ENV  # next to api key in console\n",
        ")\n",
        "index_name = \"testlangchain\""
      ],
      "metadata": {
        "id": "LHbpvz9JL8c2"
      },
      "execution_count": 17,
      "outputs": []
    },
    {
      "cell_type": "code",
      "source": [
        "embeddings = OpenAIEmbeddings(openai_api_key=OPENAI_API_KEY)"
      ],
      "metadata": {
        "id": "kVhFrOpaMqGQ"
      },
      "execution_count": 18,
      "outputs": []
    },
    {
      "cell_type": "code",
      "source": [
        "docsearch = Pinecone.from_texts([t.page_content for t in texts], embeddings, index_name=index_name)"
      ],
      "metadata": {
        "id": "dskld0cjMueG"
      },
      "execution_count": 21,
      "outputs": []
    },
    {
      "cell_type": "code",
      "source": [
        "query = \"What are examples of good data science teams?\"\n",
        "docs = docsearch.similarity_search(query, include_metadata=True)"
      ],
      "metadata": {
        "id": "cyQXob0EM-FI"
      },
      "execution_count": 22,
      "outputs": []
    },
    {
      "cell_type": "code",
      "source": [
        "docs"
      ],
      "metadata": {
        "colab": {
          "base_uri": "https://localhost:8080/"
        },
        "id": "E6peGroCNC-C",
        "outputId": "076d2620-5b37-405d-cf9d-819ff222154b"
      },
      "execution_count": 23,
      "outputs": [
        {
          "output_type": "execute_result",
          "data": {
            "text/plain": [
              "[Document(page_content='Steven Mills (@stevndmills)Data Science truly can change the world.Stephanie Beben(@boozallen)Begin every new data challenge with deep curiosity along with a healthy dose of skepticism.Alex Cosmas (@boozallen)Data scientists should be truth-seekers, not fact-seekers.Kirk Borne(@KirkDBorne)Focus on value, not volume.Brian Keller (@boozallen)Grit will get you farther than talent.Drew Farris (@drewfarris)Don’t forget to play. Play with tools, play with data, and play with algorithms. You just might discover something that will help you solve that next nagging problem. 13Meet Your Guides', metadata={}),\n",
              " Document(page_content='Data Science teams.\\n\\n›› Data Science capabilities can be built over time.\\n\\nOrganizations mature through a series of stages – Collect,\\n\\nDescribe, Discover, Predict, Advise – as they move from data\\n\\ndeluge to full Data Science maturity. At each stage, they can\\n\\ntackle increasingly complex analytic goals with a wider breadth\\n\\nof analytic capabilities. However, organizations need not reach\\n\\nmaximum Data Science maturity to achieve success. Significant\\n\\ngains can be found in every stage.\\n\\n›› Data Science is a different kind of team sport.\\n\\nData Science teams need a broad view of the organization. Leaders\\n\\nmust be key advocates who meet with stakeholders to ferret out\\n\\nthe hardest challenges, locate the data, connect disparate parts of\\n\\nthe business, and gain widespread buy-in.\\n\\nThe Short Version\\n\\n17\\n\\n17', metadata={}),\n",
              " Document(page_content='a saying on our team, “We’re not nosy, we’re Data Scientists.” These\\n\\nqualities are fundamental to the success of the project and to gaining\\n\\nnew dimensions on challenges and questions. Often Data Science\\n\\nprojects are hampered by the lack of the ability to imagine something\\n\\nnew and different. Fundamentally, organizations must foster trust and\\n\\ntransparent communication across all levels, instead of deference to\\n\\nauthority, in order to establish a strong Data Science team. Managers\\n\\nshould be prepared to invite participation more frequently, and offer\\n\\nexplanation or apology less frequently.\\n\\nIt is important to provide a path into the Data Science “club” and\\n\\nto empower the average employee to feel comfortable and conversant\\n\\nwith Data Science. For something to be part of organizational\\n\\nculture, it must be part of the fabric of the employee behavior.\\n\\nThat means employees must interact with and use data products\\n\\nin their daily routines. Another key ingredient to shaping the', metadata={}),\n",
              " Document(page_content=\"Paul Yacci(@paulyacci)In the jungle of data, don't miss the forest for the trees, or the trees for the forest. Stephanie Rivera (@boozallen)I treat Data Science like I do rock climbing: awesome dedication leads to incremental improvement. Persistence leads to the top.Charles Glover(@MindAfterMath)The beauty of data science lies in satisfying curiosities about important problems by playing with data and algorithms.Aaron Sander (@ajsander) Data science is changing corporate culture to be more like the open source environment. More open, more collaborative, and faster paced.Michael Kim (@boozallen)Data science is both an art  and science. We would like to thank the following people for their contributions and edits: Tim Andrews, Mike Delurey, Greg Dupier, Jason Escaravage, Christine Fantaskey, Juergen Klenk, Dan Liebermann, Mark Rockley and Katie Wilks.THE FIELD GUIDE to  DATA SCIENCE\", metadata={})]"
            ]
          },
          "metadata": {},
          "execution_count": 23
        }
      ]
    },
    {
      "cell_type": "code",
      "source": [
        "from langchain.llms import OpenAI\n",
        "from langchain.chains.question_answering import load_qa_chain"
      ],
      "metadata": {
        "id": "vFzt9LsXNDrS"
      },
      "execution_count": 26,
      "outputs": []
    },
    {
      "cell_type": "code",
      "source": [
        "llm = OpenAI(temperature=0, openai_api_key=OPENAI_API_KEY)\n",
        "chain = load_qa_chain(llm, chain_type=\"stuff\")"
      ],
      "metadata": {
        "id": "STCOuiNeNs49"
      },
      "execution_count": 27,
      "outputs": []
    },
    {
      "cell_type": "code",
      "source": [
        "query = \"What is the collect stage of data maturity?\"\n",
        "docs = docsearch.similarity_search(query, include_metadata=True)"
      ],
      "metadata": {
        "id": "t-QnQv3pNxtP"
      },
      "execution_count": 28,
      "outputs": []
    },
    {
      "cell_type": "code",
      "source": [
        "chain.run(input_documents=docs, question=query)"
      ],
      "metadata": {
        "colab": {
          "base_uri": "https://localhost:8080/",
          "height": 53
        },
        "id": "W76GGT2tNzpE",
        "outputId": "04e3879c-bff8-4ce6-84ea-ad68b4d69885"
      },
      "execution_count": 29,
      "outputs": [
        {
          "output_type": "execute_result",
          "data": {
            "text/plain": [
              "' The collect stage of data maturity focuses on collecting internal or external datasets. An example of this stage is gathering sales records and corresponding weather data.'"
            ],
            "application/vnd.google.colaboratory.intrinsic+json": {
              "type": "string"
            }
          },
          "metadata": {},
          "execution_count": 29
        }
      ]
    },
    {
      "cell_type": "code",
      "source": [
        "query = \"What are examples of good data science teams?\"\n",
        "docs = docsearch.similarity_search(query, include_metadata=True)"
      ],
      "metadata": {
        "id": "tyMtFGKYN214"
      },
      "execution_count": 30,
      "outputs": []
    },
    {
      "cell_type": "code",
      "source": [
        "chain.run(input_documents=docs, question=query)"
      ],
      "metadata": {
        "colab": {
          "base_uri": "https://localhost:8080/",
          "height": 87
        },
        "id": "cW01z-8RN61m",
        "outputId": "e815d609-4482-4de8-cd97-a28f38e9fc4a"
      },
      "execution_count": 31,
      "outputs": [
        {
          "output_type": "execute_result",
          "data": {
            "text/plain": [
              "' Good data science teams should have a broad view of the organization, foster trust and transparent communication, provide a path into the data science \"club\" and empower employees to feel comfortable and conversant with data science. They should also have qualities such as deep curiosity, healthy skepticism, truth-seeking, focus on value, grit, and playfulness.'"
            ],
            "application/vnd.google.colaboratory.intrinsic+json": {
              "type": "string"
            }
          },
          "metadata": {},
          "execution_count": 31
        }
      ]
    },
    {
      "cell_type": "code",
      "source": [
        "import sys\n",
        "print(sys.modules.keys())"
      ],
      "metadata": {
        "colab": {
          "base_uri": "https://localhost:8080/"
        },
        "id": "4DGazuhcN8GU",
        "outputId": "f02cca46-72dd-40ba-b265-077d8b41807d"
      },
      "execution_count": 32,
      "outputs": [
        {
          "output_type": "stream",
          "name": "stdout",
          "text": [
            "dict_keys(['sys', 'builtins', '_frozen_importlib', '_imp', '_thread', '_warnings', '_weakref', '_io', 'marshal', 'posix', '_frozen_importlib_external', 'time', 'zipimport', '_codecs', 'codecs', 'encodings.aliases', 'encodings', 'encodings.utf_8', '_signal', 'encodings.latin_1', '_abc', 'abc', 'io', '__main__', 'types', 'enum', '_sre', 'sre_constants', 'sre_parse', 'sre_compile', '_collections_abc', '_heapq', 'heapq', 'itertools', 'keyword', '_operator', 'operator', 'reprlib', '_collections', 'collections', '_functools', 'functools', '_locale', 'copyreg', 're', 'warnings', '_stat', 'stat', 'genericpath', 'posixpath', 'os.path', 'os', '_sitebuiltins', '_bootlocale', 'importlib._bootstrap', 'importlib._bootstrap_external', 'importlib', 'importlib.machinery', 'collections.abc', 'contextlib', 'typing.io', 'typing.re', 'typing', 'importlib.abc', 'importlib.util', 'google', 'google.cloud', 'google.logging', 'mpl_toolkits', 'sphinxcontrib', 'sitecustomize', 'site', '_weakrefset', 'weakref', 'pkgutil', 'runpy', 'ipykernel._version', '_json', 'json.scanner', 'json.decoder', 'json.encoder', 'json', 'errno', 'signal', 'threading', 'pwd', 'grp', '_posixsubprocess', 'select', 'math', 'selectors', 'subprocess', 'IPython.core', 'IPython.core.getipython', 'IPython.core.release', 'atexit', 'copy', 'fnmatch', 'glob', 'token', 'tokenize', 'linecache', 'traceback', '_string', 'string', 'logging', 'zlib', '_compression', '_bz2', 'bz2', '_lzma', 'lzma', 'shutil', '_ast', 'ast', '_opcode', 'opcode', 'dis', 'inspect', 'traitlets.utils', 'traitlets.utils.bunch', 'traitlets.utils.descriptions', 'traitlets.utils.getargspec', 'traitlets.utils.importstring', 'traitlets.utils.sentinel', 'traitlets.traitlets', 'traitlets._version', 'traitlets.utils.decorators', 'traitlets', 'pprint', '_socket', 'array', 'socket', '_struct', 'struct', '_compat_pickle', '_pickle', 'pickle', '_queue', 'queue', 'logging.handlers', 'socketserver', 'logging.config', 'textwrap', 'traitlets.utils.text', 'gettext', 'argparse', 'traitlets.config.loader', 'traitlets.config.configurable', 'traitlets.utils.nested_update', 'traitlets.config.application', 'traitlets.config', 'platform', 'sysconfig', 'urllib', 'urllib.parse', '_sysconfigdata__x86_64-linux-gnu', 'pydoc', 'bdb', 'IPython.utils', 'IPython.utils.ipstruct', 'IPython.utils.coloransi', 'pygments', 'IPython.utils.colorable', 'IPython.utils.PyColorize', 'locale', 'IPython.utils.encoding', 'IPython.utils.py3compat', 'IPython.core.excolors', 'IPython.testing', 'IPython.testing.skipdoctest', 'cmd', '__future__', 'codeop', 'code', 'pdb', 'IPython.core.debugger', 'IPython.core.display_trap', '_bisect', 'bisect', '_random', '_sha512', 'random', 'pexpect.exceptions', 'pexpect.utils', 'pexpect.expect', 'termios', 'tty', 'pty', 'fcntl', 'resource', 'ptyprocess.util', 'ptyprocess.ptyprocess', 'ptyprocess', 'pexpect.spawnbase', 'pexpect.pty_spawn', 'pexpect.run', 'pexpect', 'shlex', 'IPython.utils._process_common', 'IPython.utils._process_posix', 'IPython.utils.process', 'IPython.utils.decorators', 'IPython.utils.path', 'IPython.utils.data', 'IPython.utils.terminal', 'IPython.core.ultratb', 'IPython.utils._sysinfo', 'IPython.utils.sysinfo', 'IPython.core.crashhandler', 'tempfile', 'IPython.utils.importstring', 'IPython.paths', 'IPython.core.profiledir', 'IPython.core.application', 'IPython.terminal', '_hashlib', '_blake2', 'hashlib', 'IPython.core.compilerop', 'IPython.core.error', 'ntpath', 'pathlib', 'IPython.utils.text', 'IPython.core.magic_arguments', 'getopt', 'binascii', 'mimetypes', 'IPython.core.display', 'IPython.core.page', 'getpass', 'IPython.lib.security', 'IPython.lib', '_datetime', 'datetime', 'IPython.lib.pretty', 'IPython.utils.openpy', 'IPython.utils.dir2', 'IPython.utils.wildcard', 'pygments.lexers._mapping', 'pygments.modeline', 'pygments.plugin', 'pygments.util', 'pygments.lexers', 'pygments.filter', 'pygments.token', 'pygments.filters', 'pygments.regexopt', 'pygments.lexer', 'pygments.unistring', 'pygments.lexers.python', 'pygments.formatters._mapping', 'pygments.formatters', 'pygments.styles', 'pygments.formatter', 'pygments.formatters.html', 'IPython.core.oinspect', 'IPython.core.inputtransformer2', 'decorator', 'IPython.core.magic', 'pickleshare', 'IPython.core.autocall', 'IPython.core.macro', 'IPython.core.splitinput', 'IPython.core.prefilter', 'IPython.core.alias', 'IPython.core.builtin_trap', 'backcall.backcall', 'backcall', 'IPython.core.events', 'IPython.core.displayhook', 'IPython.core.displaypub', 'IPython.core.extensions', 'IPython.utils.sentinel', 'IPython.core.formatters', '_sqlite3', 'sqlite3.dbapi2', 'sqlite3', 'IPython.core.history', 'IPython.core.logger', 'IPython.core.payload', 'IPython.core.usage', 'html.entities', 'html', 'IPython.lib.display', 'IPython.display', 'IPython.utils.capture', 'IPython.utils.io', 'IPython.core.hooks', 'IPython.utils.strdispatch', 'IPython.utils.syspathcontext', 'IPython.utils.tempdir', 'IPython.utils.contexts', 'concurrent', 'concurrent.futures._base', 'concurrent.futures', '_ssl', 'base64', 'ssl', 'asyncio.constants', 'asyncio.format_helpers', 'asyncio.base_futures', 'asyncio.log', 'asyncio.coroutines', '_contextvars', 'contextvars', 'asyncio.exceptions', 'asyncio.base_tasks', '_asyncio', 'asyncio.events', 'asyncio.futures', 'asyncio.protocols', 'asyncio.transports', 'asyncio.sslproto', 'asyncio.locks', 'asyncio.tasks', 'asyncio.staggered', 'asyncio.trsock', 'asyncio.base_events', 'asyncio.runners', 'asyncio.queues', 'asyncio.streams', 'asyncio.subprocess', 'asyncio.threads', 'asyncio.base_subprocess', 'asyncio.selector_events', 'asyncio.unix_events', 'asyncio', 'IPython.core.async_helpers', 'IPython.core.interactiveshell', 'prompt_toolkit.application.current', 'prompt_toolkit.eventloop.utils', 'prompt_toolkit.eventloop.async_generator', 'prompt_toolkit.eventloop.inputhook', 'prompt_toolkit.eventloop', 'prompt_toolkit.application.run_in_terminal', 'prompt_toolkit.selection', 'prompt_toolkit.clipboard.base', 'prompt_toolkit.clipboard.in_memory', 'prompt_toolkit.clipboard', 'prompt_toolkit.cache', 'prompt_toolkit.enums', 'prompt_toolkit.filters.base', 'prompt_toolkit.filters.app', 'prompt_toolkit.filters.cli', 'prompt_toolkit.filters.utils', 'prompt_toolkit.filters', 'prompt_toolkit.document', 'prompt_toolkit.auto_suggest', 'prompt_toolkit.keys', 'prompt_toolkit.key_binding.key_bindings', 'wcwidth.table_wide', 'wcwidth.table_zero', 'wcwidth.unicode_versions', 'wcwidth.wcwidth', 'wcwidth', 'prompt_toolkit.utils', 'prompt_toolkit.key_binding.key_processor', 'prompt_toolkit.key_binding', 'prompt_toolkit.key_binding.vi_state', 'prompt_toolkit.cursor_shapes', 'prompt_toolkit.data_structures', 'prompt_toolkit.styles.base', 'prompt_toolkit.styles.named_colors', 'prompt_toolkit.styles.style', 'prompt_toolkit.styles.defaults', 'prompt_toolkit.styles.pygments', 'colorsys', 'prompt_toolkit.styles.style_transformation', 'prompt_toolkit.styles', 'prompt_toolkit.output.color_depth', 'prompt_toolkit.output.base', 'prompt_toolkit.output.flush_stdout', 'prompt_toolkit.output.plain_text', 'prompt_toolkit.output.defaults', 'prompt_toolkit.output', 'prompt_toolkit.output.vt100', 'prompt_toolkit.mouse_events', 'prompt_toolkit.formatted_text.base', 'prompt_toolkit.formatted_text.ansi', 'xml', 'xml.dom.domreg', 'xml.dom', 'xml.dom.minicompat', 'xml.dom.NodeFilter', 'xml.dom.xmlbuilder', 'xml.dom.minidom', 'prompt_toolkit.formatted_text.html', 'prompt_toolkit.formatted_text.pygments', 'prompt_toolkit.formatted_text.utils', 'prompt_toolkit.formatted_text', 'prompt_toolkit.completion.base', 'prompt_toolkit.completion.deduplicate', 'prompt_toolkit.completion.filesystem', 'prompt_toolkit.completion.word_completer', 'prompt_toolkit.completion.fuzzy_completer', 'prompt_toolkit.completion.nested', 'prompt_toolkit.completion', 'prompt_toolkit.history', 'prompt_toolkit.search', 'prompt_toolkit.validation', 'prompt_toolkit.buffer', 'prompt_toolkit.input.base', 'prompt_toolkit.input.defaults', 'prompt_toolkit.input', 'prompt_toolkit.input.typeahead', 'prompt_toolkit.key_binding.bindings', 'prompt_toolkit.key_binding.bindings.scroll', 'prompt_toolkit.key_binding.bindings.page_navigation', 'prompt_toolkit.lexers.base', 'prompt_toolkit.lexers.pygments', 'prompt_toolkit.lexers', 'prompt_toolkit.layout.utils', 'prompt_toolkit.layout.processors', 'prompt_toolkit.layout.controls', 'prompt_toolkit.layout.dimension', 'prompt_toolkit.layout.margins', 'prompt_toolkit.layout.mouse_handlers', 'prompt_toolkit.layout.screen', 'prompt_toolkit.layout.containers', 'prompt_toolkit.layout.layout', 'prompt_toolkit.layout.menus', 'prompt_toolkit.layout.scrollable_pane', 'prompt_toolkit.layout', 'prompt_toolkit.key_binding.bindings.completion', 'prompt_toolkit.key_binding.bindings.named_commands', 'prompt_toolkit.key_binding.bindings.basic', 'prompt_toolkit.key_binding.bindings.cpr', 'prompt_toolkit.key_binding.bindings.emacs', 'prompt_toolkit.key_binding.bindings.mouse', 'prompt_toolkit.input.ansi_escape_sequences', 'prompt_toolkit.input.vt100_parser', 'prompt_toolkit.key_binding.digraphs', 'prompt_toolkit.key_binding.bindings.vi', 'prompt_toolkit.key_binding.defaults', 'prompt_toolkit.key_binding.emacs_state', 'prompt_toolkit.layout.dummy', 'prompt_toolkit.renderer', 'prompt_toolkit.application.application', 'prompt_toolkit.application.dummy', 'prompt_toolkit.application', 'prompt_toolkit.key_binding.bindings.focus', 'prompt_toolkit.widgets.toolbars', 'prompt_toolkit.widgets.base', 'prompt_toolkit.widgets.dialogs', 'prompt_toolkit.widgets.menus', 'prompt_toolkit.widgets', 'prompt_toolkit.shortcuts.dialogs', 'prompt_toolkit.shortcuts.progress_bar.formatters', 'prompt_toolkit.shortcuts.progress_bar.base', 'prompt_toolkit.shortcuts.progress_bar', 'prompt_toolkit.key_binding.bindings.auto_suggest', 'prompt_toolkit.key_binding.bindings.open_in_editor', 'prompt_toolkit.shortcuts.prompt', 'prompt_toolkit.shortcuts.utils', 'prompt_toolkit.shortcuts', 'prompt_toolkit', 'prompt_toolkit.patch_stdout', 'pygments.style', 'unicodedata', 'IPython.core.latex_symbols', 'IPython.utils.generics', 'IPython.core.completer', 'IPython.terminal.ptutils', 'IPython.terminal.shortcuts', 'concurrent.futures.thread', 'IPython.terminal.debugger', 'IPython.lib.clipboard', 'IPython.terminal.magics', 'IPython.terminal.pt_inputhooks', 'IPython.terminal.prompts', 'IPython.terminal.interactiveshell', 'IPython.core.magics.auto', 'IPython.core.magics.basic', 'email', 'http', 'email.errors', 'email.quoprimime', 'email.base64mime', 'quopri', 'email.encoders', 'email.charset', 'email.header', 'calendar', 'email._parseaddr', 'email.utils', 'email._policybase', 'email.feedparser', 'email.parser', 'uu', 'email._encoded_words', 'email.iterators', 'email.message', 'http.client', 'urllib.response', 'urllib.error', 'urllib.request', 'IPython.core.magics.code', 'IPython.core.magics.config', 'IPython.core.magics.display', 'gc', 'timeit', '_lsprof', 'profile', 'cProfile', 'dataclasses', 'pstats', 'IPython.utils.module_paths', 'IPython.utils.timing', 'IPython.core.magics.execution', 'IPython.core.magics.extension', 'IPython.core.magics.history', 'IPython.core.magics.logging', 'IPython.core.magics.namespace', 'IPython.core.magics.osm', 'IPython.core.magics.packaging', 'IPython.core.pylabtools', 'IPython.core.magics.pylab', 'IPython.lib.backgroundjobs', 'IPython.core.magics.script', 'IPython.core.magics', 'IPython.core.shellapp', 'IPython.extensions', 'IPython.extensions.storemagic', 'IPython.terminal.ipapp', 'IPython.terminal.embed', 'IPython.utils.frame', 'IPython', 'ipython_genutils._version', 'ipython_genutils', 'ipython_genutils.encoding', 'ipython_genutils.py3compat', 'ipython_genutils.path', 'jupyter_client._version', '_ctypes', 'ctypes._endian', 'ctypes', 'zmq.backend.select', '_cython_0_29_32', 'cython_runtime', 'zmq.error', 'zmq.backend.cython.context', 'zmq.backend.cython.message', 'zmq.constants', 'zmq.backend.cython.socket', 'zmq.backend.cython._device', 'zmq.backend.cython._poll', 'zmq.backend.cython._proxy_steerable', 'zmq.backend.cython._version', 'zmq.backend.cython.error', 'zmq.backend.cython.utils', 'zmq.backend.cython', 'zmq.backend', 'zmq.sugar.attrsettr', 'zmq._typing', 'zmq.utils', 'zmq.utils.jsonapi', 'zmq.sugar.poll', 'zmq.sugar.socket', 'zmq.sugar.context', 'zmq.sugar.frame', 'zmq.sugar.tracker', 'zmq.sugar.version', 'zmq.sugar.stopwatch', 'zmq.sugar', 'zmq', 'jupyter_client.localinterfaces', 'jupyter_core.version', 'jupyter_core', 'platformdirs.api', 'platformdirs.version', 'configparser', 'platformdirs.unix', 'platformdirs', 'jupyter_core.utils', 'jupyter_core.paths', 'jupyter_client.utils', 'jupyter_client.connect', 'traitlets.log', 'jupyter_client.launcher', 'jupyter_client.channelsabc', 'jupyter_client.channels', 'jupyter_client.clientabc', 'jupyter_client.client', 'jupyter_client.kernelspec', 'jupyter_client.managerabc', 'jupyter_client.manager', 'jupyter_client.blocking.channels', 'jupyter_client.blocking.client', 'jupyter_client.blocking', 'zmq._future', 'zmq.asyncio', 'jupyter_client.asynchronous.channels', 'jupyter_client.asynchronous.client', 'jupyter_client.asynchronous', '_uuid', 'uuid', 'jupyter_client.multikernelmanager', 'jupyter_client', 'ipykernel.connect', 'ipykernel', 'tornado', 'numbers', 'tornado.speedups', 'tornado.util', 'tornado.escape', '_curses', 'curses', 'tornado.log', 'tornado.concurrent', 'tornado.ioloop', 'tornado.platform', 'tornado.gen', 'tornado.platform.asyncio', 'zmq.eventloop.ioloop', 'zmq.eventloop', 'zmq.eventloop.zmqstream', 'ipython_genutils.importstring', 'imp', 'hmac', 'dateutil._version', 'dateutil', 'six', '_decimal', 'decimal', 'dateutil._common', 'dateutil.relativedelta', 'six.moves', 'dateutil.tz._common', 'dateutil.tz._factories', 'dateutil.tz.tz', 'dateutil.tz', 'dateutil.parser._parser', 'dateutil.parser.isoparser', 'dateutil.parser', '_strptime', 'jupyter_client.jsonutil', 'jupyter_client.adapter', 'jupyter_client.session', 'ipykernel.iostream', 'ipykernel.heartbeat', 'IPython.utils.tokenutil', 'tornado.locks', 'tornado.queues', 'ipykernel.jsonutil', 'ipykernel.kernelbase', 'ipykernel.comm.comm', 'ipykernel.comm.manager', 'ipykernel.comm', 'IPython.core.payloadpage', 'ipykernel.displayhook', 'ipykernel.codeutil', 'ipykernel.pickleutil', 'ipykernel.serialize', 'ipykernel.datapub', 'ipykernel.zmqshell', 'distutils', 'distutils.version', 'ipykernel.eventloops', 'ipykernel.ipkernel', 'ipykernel.parentpoller', 'ipykernel.kernelapp', 'google.colab._import_hooks._altair', 'google.colab._import_hooks._bokeh', 'google.colab._import_hooks._client_info', 'google.colab._import_hooks._cv2', 'google.colab._import_hooks._pydrive', 'google.colab._import_hooks', 'google.colab._import_magics', 'google.colab._installation_commands', 'google.colab._interactive_table_helper', 'IPython.utils.traitlets', 'google.colab.data_table', 'google.colab._ipython', 'google.colab.errors', 'google.colab._message', 'google.colab.output._js', 'google.colab.output._publish', 'google.colab.output._js_builder', 'google.colab.output._area', 'google.colab.output._tags', 'google.colab.output._util', 'google.colab.output._widgets', 'google.colab.output', 'google.colab._interactive_table_hint_button', 'google.colab._reprs', 'google.colab._shell_customizations', 'google.colab._system_commands', 'google.colab._tensorflow_magics', 'http.server', 'google.colab.files', 'google.colab.auth', 'pexpect.popen_spawn', 'psutil._common', 'psutil._compat', 'psutil._psposix', 'psutil._psutil_linux', 'psutil._psutil_posix', 'psutil._pslinux', 'psutil', 'google.colab.drive', 'gzip', 'socks', 'pyparsing.util', 'pyparsing.unicode', 'pyparsing.exceptions', 'pyparsing.actions', 'pyparsing.results', 'pyparsing.core', 'pyparsing.helpers', 'pyparsing.testing', 'pyparsing.common', 'pyparsing', 'httplib2.error', 'httplib2.auth', 'httplib2.iri2uri', 'zipfile', 'importlib._common', 'importlib.resources', 'certifi.core', 'certifi', 'httplib2.certs', 'httplib2', 'google.colab.runtime', 'google.colab.snippets', 'google.colab.widgets._widget', 'google.colab.widgets._grid', 'google.colab.widgets._tabbar', 'google.colab.widgets', 'google.colab', 'google.colab._history', 'google.colab._inspector', 'google.colab._pip', 'IPython.core.inputtransformer', 'IPython.core.inputsplitter', 'google.colab._shell', 'google.colab._kernel', 'faulthandler', 'IPython.core.completerlib', 'numpy._globals', 'numpy.__config__', 'numpy._distributor_init', 'numpy._version', 'numpy.version', 'numpy.core._multiarray_umath', 'numpy.compat._inspect', 'numpy.compat.py3k', 'numpy.compat', 'numpy.core.overrides', 'numpy.core.multiarray', 'numpy.core.umath', 'numpy.core._string_helpers', 'numpy.core._dtype', 'numpy.core._type_aliases', 'numpy.core.numerictypes', 'numpy.core._exceptions', 'numpy.core._methods', 'numpy.core.fromnumeric', 'numpy.core.shape_base', 'numpy.core._ufunc_config', 'numpy.core.arrayprint', 'numpy.core._asarray', 'numpy.core.numeric', 'numpy.core.defchararray', 'numpy.core.records', 'numpy.core.memmap', 'numpy.core.function_base', 'numpy.core._machar', 'numpy.core.getlimits', 'numpy.core.einsumfunc', 'numpy.core._multiarray_tests', 'numpy.core._add_newdocs', 'numpy.core._add_newdocs_scalars', 'numpy.core._dtype_ctypes', 'numpy.core._internal', 'numpy._pytesttester', 'numpy.core', 'numpy.lib.mixins', 'numpy.lib.ufunclike', 'numpy.lib.type_check', 'numpy.lib.scimath', 'numpy.lib.stride_tricks', 'numpy.lib.twodim_base', 'numpy.linalg._umath_linalg', 'numpy.linalg.linalg', 'numpy.linalg', 'numpy.matrixlib.defmatrix', 'numpy.matrixlib', 'numpy.lib.histograms', 'numpy.lib.function_base', 'numpy.lib.index_tricks', 'numpy.lib.nanfunctions', 'numpy.lib.shape_base', 'numpy.lib.polynomial', 'numpy.lib.utils', 'numpy.lib.arraysetops', 'numpy.lib.format', 'numpy.lib._datasource', 'numpy.lib._iotools', 'numpy.lib.npyio', 'numpy.lib.arrayterator', 'numpy.lib.arraypad', 'numpy.lib._version', 'numpy.lib', 'numpy.fft._pocketfft_internal', 'numpy.fft._pocketfft', 'numpy.fft.helper', 'numpy.fft', 'numpy.polynomial.polyutils', 'numpy.polynomial._polybase', 'numpy.polynomial.polynomial', 'numpy.polynomial.chebyshev', 'numpy.polynomial.legendre', 'numpy.polynomial.hermite', 'numpy.polynomial.hermite_e', 'numpy.polynomial.laguerre', 'numpy.polynomial', '_cython_0_29_30', 'numpy.random._common', 'secrets', 'numpy.random.bit_generator', 'numpy.random._bounded_integers', 'numpy.random._mt19937', 'numpy.random.mtrand', 'numpy.random._philox', 'numpy.random._pcg64', 'numpy.random._sfc64', 'numpy.random._generator', 'numpy.random._pickle', 'numpy.random', 'numpy.ctypeslib', 'numpy.ma.core', 'numpy.ma.extras', 'numpy.ma', 'numpy', 'packaging', 'packaging._structures', 'packaging.version', 'matplotlib._api.deprecation', 'matplotlib._api', 'matplotlib._version', 'matplotlib._c_internal_utils', 'matplotlib.cbook', 'matplotlib._docstring', 'PIL._version', 'PIL', 'xml.parsers', 'pyexpat.errors', 'pyexpat.model', 'pyexpat', 'xml.parsers.expat.model', 'xml.parsers.expat.errors', 'xml.parsers.expat', 'defusedxml.common', 'defusedxml', 'xml.etree', 'xml.etree.ElementPath', '_elementtree', 'xml.etree.ElementTree', 'defusedxml.ElementTree', 'PIL.ExifTags', 'PIL.ImageMode', 'PIL.TiffTags', 'PIL._binary', 'PIL._deprecate', 'PIL._util', 'PIL._imaging', 'cffi.lock', 'cffi.error', 'cffi.model', 'cffi.api', 'cffi', 'PIL.Image', 'PIL.ImageChops', 'PIL.ImageFile', 'PIL.GimpGradientFile', 'PIL.GimpPaletteFile', 'PIL.ImageColor', 'PIL.PaletteFile', 'PIL.ImagePalette', 'PIL.ImageSequence', 'PIL.PngImagePlugin', 'matplotlib._cm', 'matplotlib._path', 'matplotlib.bezier', 'matplotlib.path', 'matplotlib.transforms', 'matplotlib.ticker', 'matplotlib.scale', 'matplotlib._color_data', 'matplotlib.colors', 'matplotlib._fontconfig_pattern', 'matplotlib._enums', 'cycler', 'matplotlib.rcsetup', 'matplotlib.ft2font', 'kiwisolver._cext', 'kiwisolver', 'matplotlib._cm_listed', 'matplotlib.cm', 'matplotlib', 'matplotlib.backends', 'matplotlib._pylab_helpers', 'matplotlib.backend_tools', 'matplotlib.artist', 'matplotlib._mathtext_data', 'matplotlib._afm', 'matplotlib.font_manager', 'matplotlib.hatch', 'matplotlib.markers', 'matplotlib.lines', 'matplotlib.patches', 'matplotlib._text_helpers', 'matplotlib.dviread', 'matplotlib._mathtext', 'matplotlib.mathtext', 'matplotlib.texmanager', 'matplotlib.textpath', 'matplotlib.text', 'matplotlib._tight_bbox', 'matplotlib.collections', 'matplotlib.widgets', 'matplotlib.backend_managers', 'matplotlib.backend_bases', 'matplotlib.backends._backend_agg', 'matplotlib.backends.backend_agg', 'matplotlib._blocking_input', 'matplotlib._image', 'matplotlib.image', 'matplotlib.offsetbox', 'matplotlib.units', 'matplotlib.axis', 'matplotlib._tight_layout', 'matplotlib.gridspec', 'matplotlib.spines', 'matplotlib.table', 'matplotlib.axes._base', 'matplotlib.category', 'matplotlib.contour', 'dateutil.rrule', 'matplotlib.dates', 'matplotlib.container', 'matplotlib.legend_handler', 'matplotlib.legend', 'matplotlib.mlab', 'matplotlib.quiver', 'matplotlib.stackplot', 'matplotlib.streamplot', 'matplotlib.tri._triangulation', 'matplotlib.tri._tricontour', 'matplotlib.tri._trifinder', 'matplotlib.tri._tritools', 'matplotlib.tri._triinterpolate', 'matplotlib.tri._tripcolor', 'matplotlib.tri._triplot', 'matplotlib.tri._trirefine', 'matplotlib.tri', 'matplotlib.axes._secondary_axes', 'matplotlib.axes._axes', 'matplotlib.axes', 'matplotlib.projections.geo', 'matplotlib.projections.polar', 'mpl_toolkits.mplot3d.proj3d', 'mpl_toolkits.mplot3d.art3d', 'mpl_toolkits.mplot3d.axis3d', 'mpl_toolkits.mplot3d.axes3d', 'mpl_toolkits.mplot3d', 'matplotlib.projections', 'matplotlib.colorbar', 'matplotlib._layoutgrid', 'matplotlib._constrained_layout', 'matplotlib.layout_engine', 'matplotlib.figure', 'matplotlib_inline.config', 'matplotlib_inline.backend_inline', 'matplotlib_inline', 'zipp.py310compat', 'zipp', 'importlib_resources._compat', 'importlib_resources.abc', 'importlib_resources._common', 'importlib_resources._legacy', 'importlib_resources', 'matplotlib.style.core', 'matplotlib.style', 'matplotlib.pyplot', 'storemagic', 'debugpy._version', 'debugpy.public_api', 'debugpy', 'google.colab._debugpy_repr', 'google.colab._variable_inspector', 'portpicker', 'google.colab._debugpy', 'debugpy._vendored._util', 'debugpy._vendored', '_pydevd_bundle', 'encodings.ascii', 'stringprep', 'encodings.idna', '_pydevd_bundle.pydevd_vm_type', '_pydev_bundle', 'xmlrpc', 'xmlrpc.client', 'xmlrpc.server', '_pydev_bundle._pydev_saved_modules', '_pydevd_bundle.pydevd_constants', '_pydev_runfiles', '_pydevd_frame_eval', 'pydev_ipython', 'plistlib', 'pkg_resources.extern', 'pkg_resources._vendor', 'pkg_resources._vendor.jaraco', 'pkg_resources.extern.jaraco', 'pkg_resources._vendor.more_itertools.recipes', 'pkg_resources._vendor.more_itertools.more', 'pkg_resources._vendor.more_itertools', 'pkg_resources.extern.more_itertools', 'pkg_resources.extern.jaraco.functools', 'pkg_resources.extern.jaraco.context', 'pkg_resources.extern.jaraco.text', 'pkg_resources._vendor.platformdirs.api', 'pkg_resources._vendor.platformdirs.version', 'pkg_resources._vendor.platformdirs.unix', 'pkg_resources._vendor.platformdirs', 'pkg_resources.extern.platformdirs', 'pkg_resources._vendor.packaging', 'pkg_resources.extern.packaging', 'pkg_resources.extern.packaging._structures', 'pkg_resources.extern.packaging.version', 'pkg_resources._vendor.packaging._elffile', 'pkg_resources._vendor.packaging._manylinux', 'pkg_resources._vendor.packaging._musllinux', 'pkg_resources.extern.packaging.tags', 'pkg_resources.extern.packaging.utils', 'pkg_resources.extern.packaging.specifiers', 'pkg_resources.extern.packaging._tokenizer', 'pkg_resources.extern.packaging._parser', 'pkg_resources.extern.packaging.markers', 'pkg_resources.extern.packaging.requirements', 'pkg_resources', 'pydevd_plugins', '_pydev_bundle.pydev_log', '_pydev_bundle._pydev_filesystem_encoding', '_pydevd_bundle.pydevd_comm_constants', 'pydevd_file_utils', '_pydev_bundle._pydev_execfile', '_pydevd_bundle.pydevd_exec2', '_pydev_bundle.pydev_imports', '_pydev_bundle.pydev_is_thread_alive', '_pydev_bundle.pydev_override', 'pydevd_plugins.extensions', '_pydevd_bundle.pydevd_extension_utils', '_pydevd_bundle.pydevd_frame_utils', '_pydevd_bundle.pydevd_filtering', '_pydevd_bundle.pydevd_io', '_pydevd_bundle.pydevd_defaults', '_pydevd_bundle.pydevd_utils', '_pydevd_bundle.pydevd_runpy', '_pydev_bundle._pydev_tipper_common', '_pydev_bundle._pydev_imports_tipper', '_pydev_bundle._pydev_calltip_util', '_pydevd_bundle.pydevd_safe_repr', '_pydevd_bundle.pydevd_resolver', '_pydevd_bundle.pydevd_extension_api', '_pydevd_bundle.pydevd_xml', '_pydevd_bundle.pydevd_dont_trace', '_pydevd_frame_eval.vendored', '_pydevd_frame_eval.vendored.bytecode.flags', '_pydevd_frame_eval.vendored.bytecode.instr', '_pydevd_frame_eval.vendored.bytecode.bytecode', '_pydevd_frame_eval.vendored.bytecode.concrete', '_pydevd_frame_eval.vendored.bytecode.cfg', '_pydevd_frame_eval.vendored.bytecode', '_pydevd_bundle.pydevd_bytecode_utils', '_pydevd_bundle.pydevd_cython', '_pydevd_bundle.pydevd_cython_wrapper', '_pydevd_bundle.pydevd_additional_thread_info', '_pydevd_bundle.pydevd_thread_lifecycle', '_pydevd_bundle.pydevd_save_locals', '_pydev_bundle.pydev_monkey', 'pydevd_tracing', '_pydevd_bundle.pydevd_collect_bytecode_info', '_pydevd_bundle.pydevd_daemon_thread', '_pydevd_bundle.pydevd_timeout', '_pydevd_bundle.pydevd_vars', '_pydev_bundle.pydev_console_utils', '_pydevd_bundle.pydevd_import_class', '_pydevd_bundle.pydevd_breakpoints', '_pydevd_bundle.pydevd_custom_frames', '_pydevd_bundle.pydevd_dont_trace_files', '_pydevd_bundle.pydevd_net_command', '_pydevd_bundle.pydevconsole_code', '_pydev_bundle.pydev_umd', 'pydevconsole', '_pydev_bundle._pydev_completer', '_pydevd_bundle.pydevd_net_command_factory_xml', '_pydevd_bundle.pydevd_frame', '_pydevd_bundle.pydevd_additional_thread_info_regular', '_pydevd_bundle.pydevd_trace_dispatch', '_pydevd_frame_eval.pydevd_frame_eval_main', '_pydevd_bundle.pydevd_source_mapping', '_pydevd_bundle.pydevd_concurrency_analyser', '_pydevd_bundle.pydevd_concurrency_analyser.pydevd_thread_wrappers', '_pydevd_bundle.pydevd_concurrency_analyser.pydevd_concurrency_logger', '_pydevd_bundle._debug_adapter', '_pydevd_bundle._debug_adapter.pydevd_schema_log', '_pydevd_bundle._debug_adapter.pydevd_base_schema', '_pydevd_bundle._debug_adapter.pydevd_schema', '_pydevd_bundle.pydevd_reload', '_pydev_bundle.fsnotify', '_pydevd_bundle.pydevd_console', '_pydevd_bundle.pydevd_comm', '_pydevd_bundle.pydevd_net_command_factory_json', '_pydevd_bundle.pydevd_api', '_pydevd_bundle.pydevd_json_debug_options', '_pydevd_bundle.pydevd_process_net_command_json', '_pydevd_bundle.pydevd_traceproperty', '_pydevd_bundle.pydevd_process_net_command', '_pydevd_bundle.pydevd_suspended_frames', '_pydevd_bundle.pydevd_trace_api', 'pydevd_plugins.pydevd_line_validation', 'pydevd_plugins.django_debug', 'pydevd_plugins.jinja2_debug', '_pydevd_bundle.pydevd_plugin_utils', 'pydevd_plugins.extensions.types', 'pydevd_plugins.extensions.types.pydevd_helpers', 'pydevd_plugins.extensions.types.pydevd_plugin_numpy_types', 'pydevd_plugins.extensions.types.pydevd_plugin_pandas_types', 'pydevd_plugins.extensions.types.pydevd_plugins_django_form_str', 'pydevd_plugins.extensions.pydevd_plugin_omegaconf', 'pydevd', 'debugpy._vendored.force_pydevd', 'debugpy.server', 'debugpy.adapter', 'debugpy.common', 'debugpy.common.json', 'debugpy.common.timestamp', 'debugpy.common.util', 'debugpy.common.log', 'debugpy.common.sockets', 'debugpy.server.api', 'encodings.hex_codec', '_csv', 'csv', 'importlib.metadata', 'yaml.error', 'yaml.tokens', 'yaml.events', 'yaml.nodes', 'yaml.reader', 'yaml.scanner', 'yaml.parser', 'yaml.composer', 'yaml.constructor', 'yaml.resolver', 'yaml.loader', 'yaml.emitter', 'yaml.serializer', 'yaml.representer', 'yaml.dumper', 'yaml._yaml', 'yaml.cyaml', 'yaml', '_cython_0_29_33', 'typing_extensions', 'pydantic.typing', 'pydantic.errors', 'pydantic.version', 'pydantic.utils', 'pydantic.class_validators', 'pydantic.config', 'ipaddress', 'pydantic.color', 'pydantic.datetime_parse', 'pydantic.validators', 'pydantic.networks', 'pydantic.types', 'pydantic.json', 'pydantic.error_wrappers', 'pydantic.fields', 'pydantic.parse', 'pydantic.schema', 'pydantic.main', 'pydantic.dataclasses', 'pydantic.annotated_types', 'pydantic.decorator', 'pydantic.env_settings', 'pydantic.tools', 'pydantic', 'langchain.schema', 'langchain.callbacks.base', 'langchain.callbacks.aim_callback', 'langchain.callbacks.utils', 'langchain.callbacks.clearml_callback', 'langchain.callbacks.comet_ml_callback', 'langchain.callbacks.openai_info', 'langchain.callbacks.shared', 'langchain.input', 'langchain.callbacks.stdout', 'langchain.callbacks.streaming_aiter', 'langchain.callbacks.tracers.schemas', 'langchain.callbacks.tracers.base', 'urllib3.packages', 'urllib3.packages.six', 'urllib3.packages.six.moves', 'urllib3.packages.six.moves.http_client', 'urllib3.exceptions', 'urllib3._version', 'urllib3.contrib', 'urllib3.contrib._appengine_environ', 'urllib3.util.wait', 'urllib3.util.connection', 'urllib3.util.request', 'urllib3.util.response', 'urllib3.util.retry', 'urllib3.util.url', 'urllib3.util.ssltransport', 'urllib3.util.ssl_', 'urllib3.util.timeout', 'urllib3.util', 'urllib3.util.proxy', 'urllib3._collections', 'urllib3.util.ssl_match_hostname', 'urllib3.connection', 'urllib3.fields', 'urllib3.filepost', 'urllib3.packages.six.moves.urllib', 'urllib3.packages.six.moves.urllib.parse', 'urllib3.request', 'urllib3.response', 'urllib3.util.queue', 'urllib3.connectionpool', 'urllib3.poolmanager', 'urllib3', 'chardet.enums', 'chardet.charsetprober', 'chardet.charsetgroupprober', 'chardet.codingstatemachine', 'chardet.escsm', 'chardet.escprober', 'chardet.latin1prober', 'chardet.mbcssm', 'chardet.utf8prober', 'chardet.mbcharsetprober', 'chardet.euctwfreq', 'chardet.euckrfreq', 'chardet.gb2312freq', 'chardet.big5freq', 'chardet.jisfreq', 'chardet.chardistribution', 'chardet.jpcntx', 'chardet.sjisprober', 'chardet.eucjpprober', 'chardet.gb2312prober', 'chardet.euckrprober', 'chardet.cp949prober', 'chardet.big5prober', 'chardet.euctwprober', 'chardet.mbcsgroupprober', 'chardet.hebrewprober', 'chardet.sbcharsetprober', 'chardet.langbulgarianmodel', 'chardet.langgreekmodel', 'chardet.langhebrewmodel', 'chardet.langrussianmodel', 'chardet.langthaimodel', 'chardet.langturkishmodel', 'chardet.sbcsgroupprober', 'chardet.universaldetector', 'chardet.version', 'chardet', 'http.cookiejar', 'http.cookies', 'requests.compat', 'requests.exceptions', 'charset_normalizer.assets', 'charset_normalizer.constant', '_multibytecodec', 'charset_normalizer.utils', 'charset_normalizer.md', 'charset_normalizer.models', 'charset_normalizer.cd', 'charset_normalizer.api', 'charset_normalizer.legacy', 'charset_normalizer.version', 'charset_normalizer', 'requests.__version__', 'requests.certs', 'requests._internal_utils', 'requests.cookies', 'requests.structures', 'requests.utils', 'requests.packages.urllib3.packages', 'requests.packages.urllib3.packages.six', 'requests.packages.urllib3.packages.six.moves', 'requests.packages.urllib3.packages.six.moves.http_client', 'requests.packages.urllib3.exceptions', 'requests.packages.urllib3._version', 'requests.packages.urllib3.contrib', 'requests.packages.urllib3.contrib._appengine_environ', 'requests.packages.urllib3.util.wait', 'requests.packages.urllib3.util.connection', 'requests.packages.urllib3.util.request', 'requests.packages.urllib3.util.response', 'requests.packages.urllib3.util.retry', 'requests.packages.urllib3.util.url', 'requests.packages.urllib3.util.ssltransport', 'requests.packages.urllib3.util.ssl_', 'requests.packages.urllib3.util.timeout', 'requests.packages.urllib3.util', 'requests.packages.urllib3.util.proxy', 'requests.packages.urllib3._collections', 'requests.packages.urllib3.util.ssl_match_hostname', 'requests.packages.urllib3.connection', 'requests.packages.urllib3.fields', 'requests.packages.urllib3.filepost', 'requests.packages.urllib3.packages.six.moves.urllib', 'requests.packages.urllib3.packages.six.moves.urllib.parse', 'requests.packages.urllib3.request', 'requests.packages.urllib3.response', 'requests.packages.urllib3.util.queue', 'requests.packages.urllib3.connectionpool', 'requests.packages.urllib3.poolmanager', 'requests.packages.urllib3', 'idna.package_data', 'idna.idnadata', 'idna.intranges', 'idna.core', 'idna', 'requests.packages.idna.package_data', 'requests.packages.idna.idnadata', 'requests.packages.idna.intranges', 'requests.packages.idna.core', 'requests.packages.idna', 'requests.packages.chardet', 'requests.packages', 'requests.hooks', 'requests.auth', 'requests.status_codes', 'requests.models', 'urllib3.contrib.socks', 'requests.adapters', 'requests.sessions', 'requests.api', 'requests', 'langchain.callbacks.tracers.langchain', 'langchain.callbacks.tracers', 'langchain.callbacks.wandb_callback', 'langchain.callbacks', 'langchain.tools.base', 'langchain.tools.ifttt', 'langchain.tools.openapi', 'langchain.tools.openapi.utils', 'openapi_schema_pydantic.v3.v3_1_0.reference', 'openapi_schema_pydantic.v3.v3_1_0.callback', 'openapi_schema_pydantic.v3.v3_1_0.example', 'openapi_schema_pydantic.v3.v3_1_0.encoding', 'openapi_schema_pydantic.v3.v3_1_0.discriminator', 'openapi_schema_pydantic.v3.v3_1_0.external_documentation', 'openapi_schema_pydantic.v3.v3_1_0.xml', 'openapi_schema_pydantic.v3.v3_1_0.schema', 'openapi_schema_pydantic.v3.v3_1_0.media_type', 'openapi_schema_pydantic.v3.v3_1_0.parameter', 'openapi_schema_pydantic.v3.v3_1_0.header', 'openapi_schema_pydantic.v3.v3_1_0.server_variable', 'openapi_schema_pydantic.v3.v3_1_0.server', 'openapi_schema_pydantic.v3.v3_1_0.link', 'openapi_schema_pydantic.v3.v3_1_0.request_body', 'openapi_schema_pydantic.v3.v3_1_0.response', 'openapi_schema_pydantic.v3.v3_1_0.responses', 'openapi_schema_pydantic.v3.v3_1_0.security_requirement', 'openapi_schema_pydantic.v3.v3_1_0.operation', 'openapi_schema_pydantic.v3.v3_1_0.path_item', 'openapi_schema_pydantic.v3.v3_1_0.oauth_flow', 'openapi_schema_pydantic.v3.v3_1_0.oauth_flows', 'openapi_schema_pydantic.v3.v3_1_0.security_scheme', 'openapi_schema_pydantic.v3.v3_1_0.components', 'openapi_schema_pydantic.v3.v3_1_0.contact', 'openapi_schema_pydantic.v3.v3_1_0.license', 'openapi_schema_pydantic.v3.v3_1_0.info', 'openapi_schema_pydantic.v3.v3_1_0.paths', 'openapi_schema_pydantic.v3.v3_1_0.tag', 'openapi_schema_pydantic.v3.v3_1_0.open_api', 'openapi_schema_pydantic.v3.v3_1_0', 'openapi_schema_pydantic.v3', 'openapi_schema_pydantic', 'langchain.tools.openapi.utils.openapi_utils', 'langchain.tools.openapi.utils.api_models', 'langchain.tools.plugin', 'langchain.tools', 'langchain.agents.tools', 'langchain.chains.api', 'langchain.formatting', 'langchain.prompts.base', 'langchain.memory.chat_message_histories.dynamodb', 'langchain.memory.chat_message_histories.postgres', 'langchain.memory.chat_message_histories.redis', 'langchain.memory.chat_message_histories', 'langchain.memory.chat_message_histories.in_memory', 'langchain.memory.utils', 'langchain.memory.chat_memory', 'langchain.memory.buffer', 'langchain.memory.buffer_window', 'langchain.memory.combined', 'langchain.chains.base', 'langchain.prompts.prompt', 'langchain.chains.llm', 'langchain.memory.prompt', 'langchain.memory.entity', 'langchain.graphs.networkx_graph', 'langchain.graphs', 'langchain.memory.kg', 'langchain.memory.readonly', 'langchain.memory.simple', 'langchain.memory.summary', 'langchain.memory.summary_buffer', 'langchain.memory.token_buffer', 'langchain.docstore.document', 'langchain.docstore.base', 'langchain.docstore.in_memory', 'langchain.docstore.wikipedia', 'langchain.docstore', 'langchain.embeddings.base', 'langchain.utils', 'langchain.embeddings.aleph_alpha', 'langchain.embeddings.cohere', 'langchain.embeddings.fake', 'langchain.embeddings.huggingface', 'langchain.embeddings.huggingface_hub', 'langchain.embeddings.jina', 'langchain.embeddings.llamacpp', 'tenacity.retry', 'tenacity.nap', 'tenacity._utils', 'tenacity.stop', 'tenacity.wait', 'tenacity.before', 'tenacity.after', 'tenacity.before_sleep', 'tenacity._asyncio', 'tenacity.tornadoweb', 'tenacity', 'langchain.embeddings.openai', 'langchain.llms.base', 'langchain.llms.ai21', 'langchain.llms.utils', 'langchain.llms.aleph_alpha', 'langchain.llms.anthropic', 'langchain.llms.bananadev', 'langchain.llms.cerebriumai', 'langchain.llms.cohere', 'langchain.llms.deepinfra', 'langchain.llms.forefrontai', 'langchain.llms.gooseai', 'langchain.llms.gpt4all', 'langchain.llms.huggingface_endpoint', 'langchain.llms.huggingface_hub', 'langchain.llms.huggingface_pipeline', 'langchain.llms.llamacpp', 'langchain.llms.modal', 'langchain.llms.nlpcloud', 'langchain.llms.openai', 'langchain.llms.petals', 'langchain.llms.promptlayer_openai', 'langchain.llms.replicate', 'langchain.llms.rwkv', 'langchain.llms.sagemaker_endpoint', 'langchain.llms.self_hosted', 'langchain.llms.self_hosted_hugging_face', 'langchain.llms.stochasticai', 'langchain.llms.writer', 'langchain.llms', 'langchain.embeddings.sagemaker_endpoint', 'langchain.embeddings.self_hosted', 'langchain.embeddings.self_hosted_hugging_face', 'langchain.embeddings.tensorflow_hub', 'langchain.embeddings', 'langchain.vectorstores.base', 'langchain.vectorstores.atlas', 'langchain.vectorstores.utils', 'langchain.vectorstores.chroma', 'langchain.vectorstores.deeplake', 'langchain.vectorstores.elastic_vector_search', 'langchain.vectorstores.faiss', 'langchain.vectorstores.milvus', 'langchain.vectorstores.opensearch_vector_search', 'langchain.vectorstores.pinecone', 'langchain.vectorstores.qdrant', 'langchain.vectorstores.weaviate', 'langchain.vectorstores', 'langchain.memory.vectorstore', 'langchain.memory', 'langchain.prompts.chat', 'langchain.prompts.example_selector.base', 'langchain.prompts.example_selector.length_based', 'langchain.prompts.example_selector.semantic_similarity', 'langchain.prompts.example_selector', 'langchain.prompts.few_shot', 'langchain.prompts.few_shot_with_templates', 'langchain.output_parsers.prompts', 'langchain.output_parsers.fix', 'langchain.output_parsers.list', 'langchain.output_parsers.format_instructions', 'langchain.output_parsers.pydantic', 'langchain.output_parsers.rail_parser', 'langchain.output_parsers.regex', 'langchain.output_parsers.regex_dict', 'langchain.output_parsers.retry', 'langchain.output_parsers.structured', 'langchain.output_parsers', 'multidict._abc', 'multidict._multidict_base', 'multidict._multidict', 'multidict._compat', 'multidict', 'aiohttp.hdrs', 'attr._compat', 'attr._config', 'attr.exceptions', 'attr.setters', 'attr._make', 'attr.converters', 'attr.filters', 'attr.validators', 'attr._cmp', 'attr._funcs', 'attr._next_gen', 'attr._version_info', 'attr', 'yarl._quoting_c', 'yarl._quoting', 'yarl._url', 'yarl', 'aiohttp.typedefs', 'aiohttp.http_exceptions', 'aiohttp.tcp_helpers', 'aiohttp.base_protocol', 'netrc', 'async_timeout', 'aiohttp.log', 'aiohttp._helpers', 'aiohttp.helpers', 'aiohttp.abc', 'aiohttp._http_writer', 'aiohttp.http_writer', 'aiohttp.streams', 'aiohttp._http_parser', 'aiohttp.http_parser', 'aiohttp._websocket', 'aiohttp.http_websocket', 'aiohttp.http', 'aiohttp.payload', 'aiohttp.client_exceptions', 'aiohttp.multipart', 'aiohttp.formdata', 'aiohttp.client_reqrep', 'aiohttp.client_ws', 'aiohttp.client_proto', 'aiohttp.locks', 'aiohttp.resolver', 'aiohttp.connector', 'aiohttp.cookiejar', 'frozenlist._frozenlist', 'frozenlist', 'aiosignal', 'aiohttp.tracing', 'aiohttp.client', 'aiohttp.payload_streamer', 'aiohttp', 'langchain.requests', 'langchain.text_splitter', 'langchain.document_loaders.base', 'langchain.document_loaders.airbyte_json', 'langchain.document_loaders.apify_dataset', 'langchain.document_loaders.web_base', 'langchain.document_loaders.azlyrics', 'langchain.document_loaders.unstructured', 'langchain.document_loaders.azure_blob_storage_file', 'langchain.document_loaders.azure_blob_storage_container', 'langchain.document_loaders.bigquery', 'langchain.document_loaders.bilibili', 'langchain.document_loaders.html_bs', 'langchain.document_loaders.text', 'langchain.document_loaders.directory', 'langchain.document_loaders.pdf', 'langchain.document_loaders.blackboard', 'langchain.document_loaders.college_confidential', 'langchain.document_loaders.conllu', 'langchain.document_loaders.csv_loader', 'langchain.document_loaders.dataframe', 'langchain.document_loaders.duckdb_loader', 'langchain.document_loaders.email', 'langchain.document_loaders.epub', 'langchain.document_loaders.evernote', 'langchain.document_loaders.facebook_chat', 'langchain.document_loaders.gcs_file', 'langchain.document_loaders.gcs_directory', 'langchain.document_loaders.git', 'langchain.document_loaders.gitbook', 'langchain.document_loaders.googledrive', 'langchain.document_loaders.gutenberg', 'langchain.document_loaders.hn', 'langchain.document_loaders.html', 'langchain.document_loaders.ifixit', 'langchain.document_loaders.image', 'langchain.document_loaders.imsdb', 'langchain.document_loaders.markdown', 'langchain.document_loaders.notebook', 'langchain.document_loaders.notion', 'langchain.document_loaders.notiondb', 'langchain.document_loaders.obsidian', 'langchain.document_loaders.powerpoint', 'langchain.document_loaders.readthedocs', 'langchain.document_loaders.roam', 'langchain.document_loaders.s3_file', 'langchain.document_loaders.s3_directory', 'langchain.document_loaders.sitemap', 'langchain.document_loaders.slack_directory', 'langchain.document_loaders.srt', 'langchain.document_loaders.telegram', 'langchain.document_loaders.url', 'langchain.document_loaders.url_playwright', 'langchain.document_loaders.url_selenium', 'langchain.document_loaders.whatsapp_chat', 'langchain.document_loaders.word_document', 'langchain.document_loaders.youtube', 'langchain.document_loaders', 'langchain.utilities.apify', 'langchain.utilities.bash', 'langchain.utilities.bing_search', 'langchain.utilities.google_search', 'langchain.utilities.google_serper', 'langchain.utilities.openweathermap', 'langchain.utilities.python', 'langchain.utilities.searx_search', 'langchain.utilities.serpapi', 'langchain.utilities.wikipedia', 'langchain.utilities.wolfram_alpha', 'langchain.utilities', 'langchain.utilities.loading', 'langchain.prompts.loading', 'langchain.prompts', 'langchain.chains.api.prompt', 'langchain.chains.api.base', 'langchain.chains.api.openapi', 'langchain.chains.api.openapi.prompts', 'langchain.chains.api.openapi.requests_chain', 'langchain.chains.api.openapi.response_chain', 'langchain.chains.api.openapi.chain', 'langchain.chains.combine_documents', 'langchain.chains.combine_documents.base', 'langchain.chains.constitutional_ai', 'langchain.chains.constitutional_ai.models', 'langchain.chains.constitutional_ai.principles', 'langchain.chains.constitutional_ai.prompts', 'langchain.chains.constitutional_ai.base', 'langchain.chains.conversation', 'langchain.chains.conversation.prompt', 'langchain.chains.conversation.base', 'langchain.chains.conversational_retrieval', 'langchain.chains.combine_documents.stuff', 'langchain.chains.conversational_retrieval.prompts', 'langchain.chains.combine_documents.map_reduce', 'langchain.chains.combine_documents.map_rerank', 'langchain.chains.combine_documents.refine', 'langchain.chat_models.base', 'langchain.chat_models.anthropic', 'langchain.chat_models.openai', 'langchain.chat_models.azure_openai', 'langchain.chat_models.promptlayer_openai', 'langchain.chat_models', 'langchain.chains.prompt_selector', 'langchain.chains.question_answering.map_reduce_prompt', 'langchain.chains.question_answering.map_rerank_prompt', 'langchain.chains.question_answering.refine_prompts', 'langchain.chains.question_answering.stuff_prompt', 'langchain.chains.question_answering', 'langchain.chains.conversational_retrieval.base', 'langchain.chains.graph_qa', 'langchain.chains.graph_qa.prompts', 'langchain.chains.graph_qa.base', 'langchain.chains.hyde', 'langchain.chains.hyde.prompts', 'langchain.chains.hyde.base', 'langchain.chains.llm_bash', 'langchain.chains.llm_bash.prompt', 'langchain.chains.llm_bash.base', 'langchain.chains.llm_checker', 'langchain.chains.llm_checker.prompt', 'langchain.chains.sequential', 'langchain.chains.llm_checker.base', 'langchain.chains.llm_math', 'langchain.chains.llm_math.prompt', 'langchain.chains.llm_math.base', 'langchain.chains.llm_requests', 'langchain.chains.llm_summarization_checker', 'langchain.chains.llm_summarization_checker.base', 'langchain.chains.pal', 'langchain.chains.pal.colored_object_prompt', 'langchain.chains.pal.math_prompt', 'langchain.chains.pal.base', 'langchain.chains.qa_with_sources.map_reduce_prompt', 'langchain.chains.qa_with_sources.refine_prompts', 'langchain.chains.qa_with_sources.stuff_prompt', 'langchain.chains.qa_with_sources.loading', 'langchain.chains.qa_with_sources', 'langchain.chains.qa_with_sources.base', 'langchain.chains.qa_with_sources.vector_db', 'langchain.chains.retrieval_qa', 'langchain.chains.retrieval_qa.base', 'langchain.chains.sql_database', 'langchain.chains.sql_database.prompt', 'sqlalchemy.util.compat', 'sqlalchemy.cimmutabledict', 'sqlalchemy.util._collections', 'sqlalchemy.util._preloaded', 'greenlet._greenlet', 'greenlet', 'sqlalchemy.exc', 'sqlalchemy.util.langhelpers', 'sqlalchemy.util._concurrency_py3k', 'sqlalchemy.util._compat_py3k', 'sqlalchemy.util.concurrency', 'sqlalchemy.util.deprecations', 'sqlalchemy.util', 'sqlalchemy.sql.roles', 'sqlalchemy.sql.visitors', 'sqlalchemy.sql.operators', 'sqlalchemy.inspection', 'sqlalchemy.sql.traversals', 'sqlalchemy.sql.base', 'sqlalchemy.sql.coercions', 'sqlalchemy.sql.type_api', 'sqlalchemy.sql.annotation', 'sqlalchemy.sql.elements', 'sqlalchemy.event.legacy', 'sqlalchemy.event.registry', 'sqlalchemy.event.attr', 'sqlalchemy.event.base', 'sqlalchemy.event.api', 'sqlalchemy.event', 'sqlalchemy.cprocessors', 'sqlalchemy.processors', 'sqlalchemy.sql.sqltypes', 'sqlalchemy.types', 'sqlalchemy.util.topological', 'sqlalchemy.sql.ddl', 'sqlalchemy.sql.selectable', 'sqlalchemy.sql.schema', 'sqlalchemy.sql.util', 'sqlalchemy.sql.dml', 'sqlalchemy.sql.crud', 'sqlalchemy.sql.functions', 'sqlalchemy.sql.compiler', 'sqlalchemy.sql.lambdas', 'sqlalchemy.sql.expression', 'sqlalchemy.sql.events', 'sqlalchemy.sql.default_comparator', 'sqlalchemy.sql.naming', 'sqlalchemy.sql', 'sqlalchemy.engine.interfaces', 'sqlalchemy.engine.util', 'sqlalchemy.log', 'sqlalchemy.engine.base', 'sqlalchemy.engine.events', 'sqlalchemy.dialects', 'sqlalchemy.engine.url', 'sqlalchemy.engine.mock', 'sqlalchemy.pool.base', 'sqlalchemy.pool.events', 'sqlalchemy.util.queue', 'sqlalchemy.pool.impl', 'sqlalchemy.pool.dbapi_proxy', 'sqlalchemy.pool', 'sqlalchemy.engine.create', 'sqlalchemy.cresultproxy', 'sqlalchemy.engine.row', 'sqlalchemy.engine.result', 'sqlalchemy.engine.cursor', 'sqlalchemy.engine.reflection', 'sqlalchemy.engine', 'sqlalchemy.schema', 'sqlalchemy.events', 'sqlalchemy.engine.characteristics', 'sqlalchemy.engine.default', 'sqlalchemy', 'langchain.sql_database', 'langchain.chains.sql_database.base', 'langchain.llms.loading', 'langchain.chains.loading', 'langchain.chains.mapreduce', 'langchain.chains.moderation', 'langchain.chains.qa_generation', 'langchain.chains.qa_generation.prompt', 'langchain.chains.qa_generation.base', 'langchain.chains.qa_with_sources.retrieval', 'langchain.chains.transform', 'langchain.chains', 'langchain.utilities.asyncio', 'langchain.agents.agent', 'langchain.agents.agent_toolkits.csv', 'langchain.agents.agent_toolkits.pandas', 'langchain.agents.agent_toolkits.pandas.prompt', 'langchain.agents.mrkl', 'langchain.agents.agent_types', 'langchain.agents.mrkl.prompt', 'langchain.agents.mrkl.base', 'langchain.tools.python', 'langchain.tools.python.tool', 'langchain.agents.agent_toolkits.pandas.base', 'langchain.agents.agent_toolkits.csv.base', 'langchain.agents.agent_toolkits.json', 'langchain.agents.agent_toolkits.json.prompt', 'langchain.agents.agent_toolkits.base', 'langchain.tools.json', 'langchain.tools.json.tool', 'langchain.agents.agent_toolkits.json.toolkit', 'langchain.agents.agent_toolkits.json.base', 'langchain.agents.agent_toolkits.nla', 'langchain.agents.agent_toolkits.nla.tool', 'langchain.agents.agent_toolkits.nla.toolkit', 'langchain.agents.agent_toolkits.openapi', 'langchain.agents.agent_toolkits.openapi.prompt', 'langchain.tools.requests', 'langchain.tools.requests.tool', 'langchain.agents.agent_toolkits.openapi.toolkit', 'langchain.agents.agent_toolkits.openapi.base', 'langchain.agents.agent_toolkits.python', 'langchain.agents.agent_toolkits.python.prompt', 'langchain.agents.agent_toolkits.python.base', 'langchain.agents.agent_toolkits.sql', 'langchain.agents.agent_toolkits.sql.prompt', 'langchain.tools.sql_database', 'langchain.tools.sql_database.prompt', 'langchain.tools.sql_database.tool', 'langchain.agents.agent_toolkits.sql.toolkit', 'langchain.agents.agent_toolkits.sql.base', 'langchain.agents.agent_toolkits.vectorstore', 'langchain.agents.agent_toolkits.vectorstore.prompt', 'langchain.tools.vectorstore', 'langchain.tools.vectorstore.tool', 'langchain.agents.agent_toolkits.vectorstore.toolkit', 'langchain.agents.agent_toolkits.vectorstore.base', 'langchain.agents.agent_toolkits.zapier', 'langchain.tools.zapier', 'langchain.tools.zapier.prompt', 'langchain.utilities.zapier', 'langchain.tools.zapier.tool', 'langchain.agents.agent_toolkits.zapier.toolkit', 'langchain.agents.agent_toolkits', 'langchain.agents.conversational', 'langchain.agents.conversational.prompt', 'langchain.agents.conversational.base', 'langchain.agents.conversational_chat', 'langchain.agents.conversational_chat.prompt', 'langchain.agents.conversational_chat.base', 'langchain.agents.chat', 'langchain.agents.chat.prompt', 'langchain.agents.chat.base', 'langchain.agents.chat_v2', 'langchain.agents.schema', 'langchain.agents.chat_v2.prompt', 'langchain.agents.chat_v2.base', 'langchain.agents.react', 'langchain.agents.react.textworld_prompt', 'langchain.agents.react.wiki_prompt', 'langchain.agents.react.base', 'langchain.agents.self_ask_with_search', 'langchain.agents.self_ask_with_search.prompt', 'langchain.agents.self_ask_with_search.base', 'langchain.agents.loading', 'langchain.agents.initialize', 'langchain.chains.api.news_docs', 'langchain.chains.api.open_meteo_docs', 'langchain.chains.api.podcast_docs', 'langchain.chains.api.tmdb_docs', 'langchain.tools.bing_search', 'langchain.tools.bing_search.tool', 'langchain.tools.google_search', 'langchain.tools.google_search.tool', 'langchain.tools.human', 'langchain.tools.human.tool', 'langchain.tools.searx_search', 'langchain.tools.searx_search.tool', 'langchain.tools.wikipedia', 'langchain.tools.wikipedia.tool', 'langchain.tools.wolfram_alpha', 'langchain.tools.wolfram_alpha.tool', 'langchain.agents.load_tools', 'langchain.agents', 'sqlalchemy.orm.exc', 'sqlalchemy.orm.base', 'sqlalchemy.orm.collections', 'sqlalchemy.orm.path_registry', 'sqlalchemy.orm.interfaces', 'sqlalchemy.orm.attributes', 'sqlalchemy.orm.state', 'sqlalchemy.orm.instrumentation', 'sqlalchemy.orm.util', 'sqlalchemy.orm.strategy_options', 'sqlalchemy.future.engine', 'sqlalchemy.future', 'sqlalchemy.orm.loading', 'sqlalchemy.orm.descriptor_props', 'sqlalchemy.orm.relationships', 'sqlalchemy.orm.properties', 'sqlalchemy.orm.mapper', 'sqlalchemy.orm.context', 'sqlalchemy.orm.clsregistry', 'sqlalchemy.orm.decl_base', 'sqlalchemy.orm.decl_api', 'sqlalchemy.orm.identity', 'sqlalchemy.orm.query', 'sqlalchemy.orm.evaluator', 'sqlalchemy.orm.sync', 'sqlalchemy.orm.persistence', 'sqlalchemy.orm.unitofwork', 'sqlalchemy.orm.session', 'sqlalchemy.orm.scoping', 'sqlalchemy.orm.events', 'sqlalchemy.orm.strategies', 'sqlalchemy.orm.dynamic', 'sqlalchemy.orm.dependency', 'sqlalchemy.orm', 'langchain.cache', 'langchain', 'unstructured', 'unstructured.__version__', 'unstructured.documents', 'unstructured.documents.elements', 'unstructured.partition', 'unstructured.logger', 'unstructured.nlp', 'unstructured.nlp.patterns', 'unstructured.partition.common', 'unstructured.cleaners', 'unstructured.cleaners.core', 'unstructured.nlp.english_words', 'nltk.internals', 'nltk.metrics.distance', 'nltk.probability', 'nltk.metrics.agreement', 'nltk.metrics.aline', 'scipy._lib._testutils', 'scipy._lib', 'scipy._lib.deprecation', 'scipy.__config__', 'scipy.version', 'scipy._distributor_init', 'scipy._lib._pep440', 'scipy._lib._ccallback_c', 'scipy._lib._ccallback', 'scipy', 'scipy.stats._warnings_errors', 'unittest.util', 'unittest.result', 'difflib', 'unittest.case', 'unittest.suite', 'unittest.loader', 'unittest.signals', 'unittest.runner', 'unittest.main', 'unittest', 'numpy.testing._private', 'numpy.linalg.lapack_lite', 'numpy.testing._private.utils', 'numpy.testing._private.extbuild', 'numpy.testing._private.decorators', 'numpy.testing._private.nosetester', 'numpy.testing', 'scipy._lib._util', 'scipy.sparse._sputils', 'scipy.sparse._base', 'scipy.sparse._sparsetools', 'scipy.sparse._data', 'scipy.sparse._index', 'scipy.sparse._compressed', 'scipy.sparse._csr', 'scipy.sparse._csc', '_csparsetools', 'scipy.sparse._csparsetools', 'scipy.sparse._lil', 'scipy.sparse._dok', 'scipy.sparse._coo', 'scipy.sparse._dia', 'scipy.sparse._bsr', 'scipy.sparse._construct', 'scipy.sparse._extract', 'scipy.sparse._matrix_io', 'scipy.sparse._arrays', 'scipy.sparse.linalg._isolve._iterative', 'scipy.sparse.linalg._interface', 'scipy.sparse.linalg._isolve.utils', 'scipy._lib.decorator', 'scipy._lib._threadsafety', 'scipy.sparse.linalg._isolve.iterative', 'scipy.sparse.linalg._isolve.minres', 'scipy.linalg._fblas', 'scipy.linalg.blas', 'scipy.linalg._flapack', 'scipy.linalg.lapack', 'scipy.linalg._misc', 'scipy.linalg._cythonized_array_utils', 'scipy.linalg._flinalg', 'scipy.linalg._flinalg_py', 'scipy.linalg._decomp', 'scipy.linalg._decomp_svd', 'scipy.linalg._solve_toeplitz', 'scipy.linalg._basic', 'scipy.linalg._decomp_lu', 'scipy.linalg._decomp_ldl', 'scipy.linalg._decomp_cholesky', 'scipy.linalg._decomp_qr', 'scipy.linalg._decomp_qz', 'scipy.linalg._decomp_schur', 'scipy.linalg._decomp_polar', 'scipy.linalg._special_matrices', 'scipy.linalg._expm_frechet', 'scipy.linalg._matfuncs_sqrtm_triu', 'scipy.linalg._matfuncs_sqrtm', 'scipy.linalg.cython_lapack', 'scipy.linalg.cython_blas', 'scipy.linalg._matfuncs_expm', 'scipy.linalg._matfuncs', 'scipy.linalg._solvers', 'scipy.linalg._procrustes', 'scipy.linalg._decomp_update', 'scipy.linalg._sketches', 'scipy.linalg._decomp_cossin', 'scipy.linalg.decomp', 'scipy.linalg.decomp_cholesky', 'scipy.linalg.decomp_lu', 'scipy.linalg.decomp_qr', 'scipy.linalg.decomp_svd', 'scipy.linalg.decomp_schur', 'scipy.linalg.basic', 'scipy.linalg.misc', 'scipy.linalg.special_matrices', 'scipy.linalg.flinalg', 'scipy.linalg.matfuncs', 'scipy.linalg', 'scipy.sparse.linalg._isolve._gcrotmk', 'scipy.sparse.linalg._isolve.lgmres', 'scipy.sparse.linalg._isolve.lsqr', 'scipy.sparse.linalg._isolve.lsmr', 'scipy.sparse.linalg._isolve.tfqmr', 'scipy.sparse.linalg._isolve', 'scipy.sparse.linalg._dsolve._superlu', 'scipy.sparse.linalg._dsolve.linsolve', 'scipy.sparse.linalg._dsolve._add_newdocs', 'scipy.sparse.linalg._dsolve', 'scipy.sparse.linalg._eigen.arpack._arpack', 'scipy.sparse.linalg._eigen.arpack.arpack', 'scipy.sparse.linalg._eigen.arpack', 'scipy.sparse.linalg._eigen.lobpcg.lobpcg', 'scipy.sparse.linalg._eigen.lobpcg', 'scipy.sparse.linalg._eigen._svds', 'scipy.sparse.linalg._eigen', 'scipy.sparse.linalg._onenormest', 'scipy.sparse.linalg._expm_multiply', 'scipy.sparse.linalg._matfuncs', 'scipy.sparse.linalg._norm', 'scipy.sparse.linalg.isolve', 'scipy.sparse.linalg.dsolve', 'scipy.sparse.linalg.interface', 'scipy.sparse.linalg.eigen', 'scipy.sparse.linalg.matfuncs', 'scipy.sparse.linalg', 'scipy.sparse.csgraph._laplacian', 'scipy.sparse.csgraph._tools', 'scipy.sparse.csgraph._validation', 'scipy.sparse.csgraph._shortest_path', 'scipy.sparse.csgraph._traversal', 'scipy.sparse.csgraph._min_spanning_tree', 'scipy.sparse.csgraph._flow', 'scipy.sparse.csgraph._matching', 'scipy.sparse.csgraph._reordering', 'scipy.sparse.csgraph', 'scipy.sparse.base', 'scipy.sparse.bsr', 'scipy.sparse.compressed', 'scipy.sparse.construct', 'scipy.sparse.coo', 'scipy.sparse.csc', 'scipy.sparse.csr', 'scipy.sparse.data', 'scipy.sparse.dia', 'scipy.sparse.dok', 'scipy.sparse.extract', 'scipy.sparse.lil', 'scipy.sparse.sparsetools', 'scipy.sparse.sputils', 'scipy.sparse', 'scipy.spatial._ckdtree', 'scipy.spatial._kdtree', 'scipy._lib.messagestream', 'scipy.spatial._qhull', 'scipy.spatial._voronoi', 'scipy.spatial._spherical_voronoi', 'scipy.spatial._plotutils', 'scipy.spatial._procrustes', 'scipy.spatial._distance_wrap', 'scipy.spatial._hausdorff', 'scipy.special._sf_error', 'scipy.special._ufuncs_cxx', 'scipy.special._ufuncs', 'scipy.special._specfun', 'scipy.special._comb', 'scipy.special._basic', 'scipy.special._logsumexp', 'scipy.special._orthogonal', 'scipy.special._spfun_stats', 'scipy.special._ellip_harm_2', 'scipy.special._ellip_harm', 'scipy.special._lambertw', 'scipy.special._spherical_bessel', 'scipy.special._add_newdocs', 'scipy.special.add_newdocs', 'scipy.special.basic', 'scipy.special.orthogonal', 'scipy.special.specfun', 'scipy.special.sf_error', 'scipy.special.spfun_stats', 'scipy.special', 'scipy.spatial._distance_pybind', 'scipy.spatial.distance', 'scipy.spatial._geometric_slerp', 'scipy.spatial.ckdtree', 'scipy.spatial.kdtree', 'scipy.spatial.qhull', 'scipy.constants._codata', 'scipy.constants._constants', 'scipy.constants.codata', 'scipy.constants.constants', 'scipy.constants', 'scipy.spatial.transform._rotation_groups', 'scipy.spatial.transform._rotation', 'scipy.spatial.transform._rotation_spline', 'scipy.spatial.transform.rotation', 'scipy.spatial.transform', 'scipy.spatial', 'scipy.ndimage._ni_support', 'scipy.ndimage._nd_image', 'scipy._lib.doccer', 'scipy.ndimage._ni_docstrings', 'scipy.ndimage._filters', 'scipy.ndimage._fourier', 'scipy.ndimage._interpolation', '_ni_label', 'scipy.ndimage._ni_label', 'scipy.ndimage._morphology', 'scipy.ndimage._measurements', 'scipy.ndimage.filters', 'scipy.ndimage.fourier', 'scipy.ndimage.interpolation', 'scipy.ndimage.measurements', 'scipy.ndimage.morphology', 'scipy.ndimage', 'scipy.stats._distr_params', 'scipy.optimize._minpack2', 'scipy.optimize._linesearch', 'scipy.optimize._group_columns', 'scipy.optimize._numdiff', 'scipy.optimize._hessian_update_strategy', 'scipy.optimize._differentiable_functions', 'scipy.optimize._optimize', 'scipy.optimize._trustregion', 'scipy.optimize._trustregion_dogleg', 'scipy.optimize._trustregion_ncg', 'scipy.optimize._trlib._trlib', 'scipy.optimize._trlib', 'scipy.optimize._trustregion_krylov', 'scipy.optimize._trustregion_exact', 'scipy.optimize._constraints', 'scipy.optimize._trustregion_constr.projections', 'scipy.optimize._trustregion_constr.qp_subproblem', 'scipy.optimize._trustregion_constr.equality_constrained_sqp', 'scipy.optimize._trustregion_constr.canonical_constraint', 'scipy.optimize._trustregion_constr.tr_interior_point', 'scipy.optimize._trustregion_constr.report', 'scipy.optimize._trustregion_constr.minimize_trustregion_constr', 'scipy.optimize._trustregion_constr', 'scipy.optimize._lbfgsb', 'scipy.optimize._lbfgsb_py', '_moduleTNC', 'scipy.optimize._moduleTNC', 'scipy.optimize._tnc', 'scipy.optimize._cobyla', 'scipy.optimize._cobyla_py', 'scipy.optimize._slsqp', 'scipy.optimize._slsqp_py', 'scipy.optimize._minimize', 'scipy.optimize._minpack', 'scipy.optimize._lsq.common', 'scipy.optimize._lsq.trf', 'scipy.optimize._lsq.dogbox', 'scipy.optimize._lsq.least_squares', 'scipy.optimize._lsq.givens_elimination', 'scipy.optimize._lsq.trf_linear', 'scipy.optimize._lsq.bvls', 'scipy.optimize._lsq.lsq_linear', 'scipy.optimize._lsq', 'scipy.optimize._minpack_py', 'scipy.optimize._spectral', 'scipy.optimize._nonlin', 'scipy.optimize._root', 'scipy.optimize._zeros', 'scipy.optimize._zeros_py', 'scipy.optimize._root_scalar', 'scipy.optimize.__nnls', 'scipy.optimize._nnls', 'scipy.optimize._basinhopping', 'scipy.optimize._highs', 'scipy.optimize._highs.cython.src._highs_wrapper', 'scipy.optimize._highs._highs_wrapper', 'scipy.optimize._highs.cython.src._highs_constants', 'scipy.optimize._highs._highs_constants', 'scipy.optimize._linprog_highs', 'scipy.linalg._interpolative', 'scipy.linalg._interpolative_backend', 'scipy.linalg.interpolative', 'scipy.optimize._remove_redundancy', 'scipy.optimize._linprog_util', 'scipy.optimize._linprog_ip', 'scipy.optimize._linprog_simplex', 'scipy.optimize._bglu_dense', 'scipy.optimize._linprog_rs', 'scipy.optimize._linprog_doc', 'scipy.optimize._linprog', 'scipy.optimize._lsap', 'scipy.optimize._differentialevolution', 'scipy.optimize._shgo_lib', 'scipy.optimize._shgo_lib.triangulation', 'scipy.optimize._shgo', 'scipy.optimize._dual_annealing', 'scipy.optimize._qap', 'scipy.optimize._direct', 'scipy.optimize._direct_py', 'scipy.optimize._milp', 'scipy.optimize.cobyla', 'scipy.optimize.lbfgsb', 'scipy.optimize.linesearch', 'scipy.optimize.minpack', 'scipy.optimize.minpack2', 'scipy.optimize.moduleTNC', 'scipy.optimize.nonlin', 'scipy.optimize.optimize', 'scipy.optimize.slsqp', 'scipy.optimize.tnc', 'scipy.optimize.zeros', 'scipy.optimize', 'scipy.integrate._quadrature', 'scipy.integrate._odepack', 'scipy.integrate._odepack_py', 'scipy.integrate._quadpack', 'scipy.integrate._quadpack_py', 'scipy.integrate._vode', 'scipy.integrate._dop', 'scipy.integrate._lsoda', 'scipy.integrate._ode', 'scipy.integrate._bvp', 'scipy.integrate._ivp.common', 'scipy.integrate._ivp.base', 'scipy.integrate._ivp.bdf', 'scipy.integrate._ivp.radau', 'scipy.integrate._ivp.dop853_coefficients', 'scipy.integrate._ivp.rk', 'scipy.integrate._ivp.lsoda', 'scipy.integrate._ivp.ivp', 'scipy.integrate._ivp', 'scipy.integrate._quad_vec', 'scipy.integrate.dop', 'scipy.integrate.lsoda', 'scipy.integrate.vode', 'scipy.integrate.odepack', 'scipy.integrate.quadpack', 'scipy.integrate', 'scipy._lib._finite_differences', 'scipy.stats._constants', 'scipy.stats._distn_infrastructure', 'scipy.special.cython_special', 'scipy.stats._stats', 'scipy.stats._tukeylambda_stats', 'scipy.stats._ksstats', 'scipy.stats.beta_ufunc', 'scipy.stats._boost.beta_ufunc', 'scipy.stats.binom_ufunc', 'scipy.stats._boost.binom_ufunc', 'scipy.stats.nbinom_ufunc', 'scipy.stats._boost.nbinom_ufunc', 'scipy.stats.hypergeom_ufunc', 'scipy.stats._boost.hypergeom_ufunc', 'scipy.stats.ncf_ufunc', 'scipy.stats._boost.ncf_ufunc', 'scipy.stats.ncx2_ufunc', 'scipy.stats._boost.ncx2_ufunc', 'scipy.stats.nct_ufunc', 'scipy.stats._boost.nct_ufunc', 'scipy.stats.skewnorm_ufunc', 'scipy.stats._boost.skewnorm_ufunc', 'scipy.stats.invgauss_ufunc', 'scipy.stats._boost.invgauss_ufunc', 'scipy.stats._boost', 'scipy.stats._continuous_distns', 'scipy.interpolate._fitpack', 'scipy.interpolate.dfitpack', 'scipy.interpolate._fitpack_impl', 'scipy.interpolate._bspl', 'scipy.interpolate._bsplines', 'scipy.interpolate._fitpack_py', 'scipy.interpolate._polyint', 'scipy.interpolate._ppoly', 'scipy.interpolate._fitpack2', 'scipy.interpolate.interpnd', 'scipy.interpolate._interpolate', 'scipy.interpolate._rbf', 'scipy.interpolate._rbfinterp_pythran', 'scipy.interpolate._rbfinterp', 'scipy.interpolate._cubic', 'scipy.interpolate._ndgriddata', 'scipy.interpolate._pade', 'scipy.interpolate._rgi_cython', 'scipy.interpolate._rgi', 'scipy.interpolate.fitpack', 'scipy.interpolate.fitpack2', 'scipy.interpolate.interpolate', 'scipy.interpolate.ndgriddata', 'scipy.interpolate.polyint', 'scipy.interpolate.rbf', 'scipy.interpolate', 'scipy.stats._biasedurn', 'scipy.stats._discrete_distns', 'scipy.stats._levy_stable.levyst', 'scipy.stats._levy_stable', 'scipy.stats._entropy', 'scipy.stats.distributions', 'scipy._lib._bunch', 'scipy.stats._stats_pythran', 'scipy.stats._stats_mstats_common', 'scipy.stats._mstats_basic', 'scipy.stats._common', 'scipy._lib._uarray._uarray', 'scipy._lib._uarray._backend', 'scipy._lib._uarray', 'scipy._lib.uarray', 'scipy.fft._basic', 'scipy.fft._realtransforms', 'scipy.fft._fftlog', 'scipy.fft._fftlog_multimethods', 'scipy.fft._pocketfft.pypocketfft', 'scipy.fft._pocketfft.helper', 'scipy.fft._pocketfft.basic', 'scipy.fft._pocketfft.realtransforms', 'scipy.fft._pocketfft', 'scipy.fft._helper', 'scipy.fft._backend', 'scipy.fft', 'scipy.stats._hypotests', 'scipy._lib._docscrape', 'scipy.stats._axis_nan_policy', 'scipy.stats._resampling', 'scipy.stats._binomtest', 'scipy.stats._stats_py', 'scipy.stats._variation', 'scipy.stats._statlib', 'scipy.stats._fit', 'scipy.stats._relative_risk', 'scipy.stats._crosstab', 'scipy.stats._odds_ratio', 'scipy.stats.contingency', 'scipy.stats._morestats', 'scipy.stats._binned_statistic', 'scipy.stats._mvn', 'scipy.stats._kde', 'scipy.stats._mstats_extras', 'scipy.stats.mstats', 'scipy.stats._sobol', 'scipy.stats._qmc_cy', 'scipy.stats._qmc', 'scipy.stats.qmc', 'scipy.stats._covariance', 'scipy.stats._rcont.rcont', 'scipy.stats._rcont', 'scipy.stats._multivariate', 'scipy.stats._rvs_sampling', 'scipy.stats._page_trend_test', 'scipy.stats._mannwhitneyu', 'scipy.stats.biasedurn', 'scipy.stats.kde', 'scipy.stats.morestats', 'scipy.stats.mstats_basic', 'scipy.stats.mstats_extras', 'scipy.stats.mvn', 'scipy.stats.statlib', 'scipy.stats.stats', 'scipy.stats', 'nltk.metrics.association', 'nltk.metrics.confusionmatrix', 'nltk.metrics.paice', 'nltk.collections', 'nltk.util', 'nltk.metrics.scores', 'nltk.metrics.segmentation', 'nltk.metrics.spearman', 'nltk.metrics', 'nltk.collocations', 'nltk.decorators', 'optparse', 'nltk.sem.logic', '_tkinter', 'tkinter.constants', 'tkinter', 'tkinter.font', 'nltk.sem.drt', 'nltk.sem.boxer', 'nltk.sem.evaluate', 'nltk.sem.lfg', 'nltk.sem.relextract', 'nltk.sem.skolemize', 'nltk.sem.util', 'nltk.sem', 'nltk.featstruct', 'nltk.grammar', 'nltk.lm.counter', 'nltk.lm.util', 'nltk.lm.vocabulary', 'nltk.lm.api', 'nltk.lm.smoothing', 'nltk.lm.models', 'nltk.lm', 'nltk.lm.preprocessing', 'nltk.compat', 'nltk.data', 'regex._regex', 'regex._regex_core', 'regex.regex', 'regex', 'xml.sax.handler', 'xml.sax._exceptions', 'xml.sax.xmlreader', 'xml.sax', 'xml.sax.saxutils', 'nltk.tokenize.util', 'nltk.tokenize.api', 'nltk.tokenize.casual', 'nltk.tokenize.destructive', 'nltk.tokenize.legality_principle', 'nltk.tokenize.mwe', 'nltk.tokenize.punkt', 'nltk.tokenize.regexp', 'nltk.tokenize.repp', 'nltk.tokenize.sexpr', 'nltk.tokenize.simple', 'nltk.tokenize.sonority_sequencing', 'nltk.tokenize.stanford_segmenter', 'nltk.tokenize.texttiling', 'nltk.tokenize.toktok', 'nltk.tokenize.treebank', 'nltk.tokenize', 'nltk.text', 'nltk.jsontags', 'nltk.tag.util', 'nltk.tag.api', 'nltk.classify.api', 'nltk.classify.decisiontree', 'nltk.classify.megam', 'nltk.classify.tadm', 'nltk.classify.util', 'nltk.classify.maxent', 'nltk.classify.naivebayes', 'nltk.classify.positivenaivebayes', 'nltk.classify.rte_classify', 'sklearn._config', 'sklearn._distributor_init', 'sklearn.__check_build._check_build', 'sklearn.__check_build', 'sklearn.utils.murmurhash', 'sklearn.utils.class_weight', 'joblib.hashing', 'multiprocessing.process', 'multiprocessing.reduction', 'multiprocessing.context', '__mp_main__', 'multiprocessing', 'multiprocessing.util', 'joblib.disk', 'joblib.logger', 'joblib.func_inspect', 'joblib.backports', 'joblib.compressor', 'joblib.numpy_pickle_utils', 'joblib.numpy_pickle_compat', 'joblib.numpy_pickle', 'joblib._store_backends', 'joblib.memory', '_multiprocessing', 'joblib._multiprocessing_helpers', 'joblib._deprecated_my_exceptions', 'joblib.my_exceptions', 'mmap', 'joblib.externals', 'joblib.externals.loky._base', 'multiprocessing.synchronize', 'joblib.externals.loky.backend.process', 'joblib.externals.loky.backend.context', 'joblib.externals.loky.backend', 'multiprocessing.connection', 'joblib.externals.loky.backend._posix_reduction', 'joblib.externals.cloudpickle.compat', 'joblib.externals.cloudpickle.cloudpickle', 'joblib.externals.cloudpickle.cloudpickle_fast', 'joblib.externals.cloudpickle', 'joblib.externals.loky.backend.reduction', 'multiprocessing.queues', 'concurrent.futures.process', 'joblib.externals.loky.backend.queues', 'joblib.externals.loky.backend.utils', 'joblib.externals.loky.initializers', 'joblib.externals.loky.process_executor', 'joblib.externals.loky.reusable_executor', 'joblib.externals.loky.cloudpickle_wrapper', 'joblib.externals.loky', 'joblib.externals.loky.backend.spawn', 'joblib.externals.loky.backend.resource_tracker', 'joblib._memmapping_reducer', 'multiprocessing.pool', 'joblib.pool', 'joblib.executor', 'joblib._parallel_backends', 'joblib._utils', 'joblib.parallel', 'joblib._cloudpickle_wrapper', 'joblib', 'sklearn.utils._joblib', 'sklearn.exceptions', 'sklearn.utils.deprecation', 'sklearn.utils.discovery', 'ctypes.util', 'threadpoolctl', 'sklearn.externals', 'sklearn.externals._packaging', 'sklearn.externals._packaging._structures', 'sklearn.externals._packaging.version', 'sklearn.utils.fixes', 'sklearn.utils._estimator_html_repr', 'sklearn.utils._array_api', 'sklearn.utils._isfinite', 'sklearn.utils.validation', 'sklearn.utils._bunch', 'sklearn.utils', 'sklearn.utils._available_if', 'sklearn.utils._set_output', 'sklearn.utils._tags', 'sklearn.utils._param_validation', 'sklearn.base', 'sklearn.utils._openmp_helpers', 'sklearn.utils._show_versions', 'sklearn', 'sklearn.feature_extraction._dict_vectorizer', 'sklearn.utils._vector_sentinel', 'sklearn.feature_extraction._hashing_fast', 'sklearn.feature_extraction._hash', 'sklearn.feature_extraction.image', 'sklearn.utils.metaestimators', 'sklearn.preprocessing._function_transformer', 'sklearn.utils._logistic_sigmoid', 'sklearn.utils.sparsefuncs_fast', 'sklearn.utils.extmath', 'sklearn.utils.sparsefuncs', 'sklearn.utils._mask', 'sklearn.utils._encode', 'sklearn.preprocessing._encoders', 'sklearn.preprocessing._data', 'sklearn.utils.multiclass', 'sklearn.preprocessing._label', 'sklearn.preprocessing._discretization', 'sklearn.utils.stats', 'sklearn.preprocessing._csr_polynomial_expansion', 'sklearn.preprocessing._polynomial', 'sklearn.preprocessing', 'sklearn.feature_extraction._stop_words', 'sklearn.feature_extraction.text', 'sklearn.feature_extraction', 'nltk.classify.scikitlearn', 'nltk.classify.senna', 'nltk.classify.textcat', 'nltk.classify.weka', 'nltk.classify', 'nltk.tag.sequential', 'nltk.tbl.feature', 'nltk.tbl.rule', 'nltk.tbl.template', 'nltk.tbl.erroranalysis', 'nltk.tbl', 'nltk.tag.brill', 'nltk.tag.brill_trainer', 'nltk.tag.tnt', 'nltk.tag.hunpos', 'nltk.tag.stanford', 'nltk.tag.hmm', 'nltk.tag.senna', 'nltk.tag.mapping', 'nltk.tag.crf', 'nltk.tag.perceptron', 'nltk.tag', 'nltk.tree.tree', 'nltk.tree.parented', 'nltk.tree.immutable', 'nltk.tree.parsing', 'nltk.tree.prettyprinter', 'nltk.tree.probabilistic', 'nltk.tree.transforms', 'nltk.tree', 'nltk.chunk.util', 'nltk.parse.api', 'nltk.parse.bllip', 'nltk.parse.chart', 'nltk.parse.dependencygraph', 'nltk.parse.corenlp', 'nltk.parse.featurechart', 'nltk.parse.earleychart', 'nltk.parse.evaluate', 'nltk.parse.pchart', 'nltk.parse.util', 'nltk.parse.malt', 'nltk.parse.nonprojectivedependencyparser', 'nltk.parse.projectivedependencyparser', 'nltk.parse.recursivedescent', 'nltk.parse.shiftreduce', 'sklearn.utils._cython_blas', 'sklearn.svm._libsvm', 'sklearn.svm._liblinear', 'sklearn.svm._libsvm_sparse', 'sklearn.svm._base', 'sklearn.utils._random', 'sklearn.utils._seq_dataset', 'sklearn.utils.parallel', 'sklearn.linear_model._base', 'sklearn.linear_model._bayes', 'sklearn.utils.arrayfuncs', 'sklearn.model_selection._split', 'sklearn.metrics._base', 'sklearn.metrics._ranking', 'sklearn.metrics._classification', 'sklearn.utils._typedefs', 'sklearn.utils._readonly_array_wrapper', 'sklearn.metrics._dist_metrics', 'sklearn.metrics.cluster._expected_mutual_info_fast', 'sklearn.metrics.cluster._supervised', 'sklearn.metrics._pairwise_distances_reduction._datasets_pair', 'sklearn.metrics._pairwise_distances_reduction._base', 'sklearn.metrics._pairwise_distances_reduction._middle_term_computer', 'sklearn.utils._heap', 'sklearn.utils._sorting', 'sklearn.metrics._pairwise_distances_reduction._argkmin', 'sklearn.metrics._pairwise_distances_reduction._radius_neighbors', 'sklearn.metrics._pairwise_distances_reduction._dispatcher', 'sklearn.metrics._pairwise_distances_reduction', 'sklearn.metrics._pairwise_fast', 'sklearn.metrics.pairwise', 'sklearn.metrics.cluster._unsupervised', 'sklearn.metrics.cluster._bicluster', 'sklearn.metrics.cluster', 'sklearn.metrics._regression', 'sklearn.metrics._scorer', 'sklearn.metrics._plot', 'sklearn.metrics._plot.base', 'sklearn.metrics._plot.det_curve', 'sklearn.metrics._plot.roc_curve', 'sklearn.metrics._plot.precision_recall_curve', 'sklearn.metrics._plot.confusion_matrix', 'sklearn.metrics._plot.regression', 'sklearn.metrics', 'sklearn.model_selection._validation', 'sklearn.utils.random', 'sklearn.model_selection._search', 'sklearn.model_selection._plot', 'sklearn.model_selection', 'sklearn.linear_model._least_angle', 'sklearn.linear_model._cd_fast', 'sklearn.linear_model._coordinate_descent', 'sklearn._loss._loss', 'sklearn._loss.link', 'sklearn._loss.loss', 'sklearn._loss', 'sklearn.utils.optimize', 'sklearn.linear_model._linear_loss', 'sklearn.linear_model._glm._newton_solver', 'sklearn._loss.glm_distribution', 'sklearn.linear_model._glm.glm', 'sklearn.linear_model._glm', 'sklearn.linear_model._huber', 'sklearn.utils._weight_vector', 'sklearn.linear_model._sgd_fast', 'sklearn.linear_model._stochastic_gradient', 'sklearn.linear_model._sag_fast', 'sklearn.linear_model._sag', 'sklearn.linear_model._ridge', 'sklearn.linear_model._logistic', 'sklearn.linear_model._omp', 'sklearn.linear_model._passive_aggressive', 'sklearn.linear_model._perceptron', 'sklearn.linear_model._quantile', 'sklearn.linear_model._ransac', 'sklearn.linear_model._theil_sen', 'sklearn.linear_model', 'sklearn.svm._classes', 'sklearn.svm._bounds', 'sklearn.svm', 'sklearn.datasets._base', 'sklearn.datasets._covtype', 'sklearn.datasets._kddcup99', 'sklearn.datasets._lfw', 'tarfile', 'sklearn.datasets._twenty_newsgroups', 'sklearn.externals._arff', 'sklearn.datasets._arff_parser', 'sklearn.datasets._openml', 'sklearn.datasets._samples_generator', 'sklearn.datasets._svmlight_format_fast', 'sklearn.datasets._svmlight_format_io', 'scipy.io.matlab._byteordercodes', 'scipy.io.matlab._miobase', 'scipy.io.matlab._mio_utils', 'scipy.io.matlab._mio4', 'scipy.io.matlab._streams', 'scipy.io.matlab._mio5_params', 'scipy.io.matlab._mio5_utils', 'scipy.io.matlab._mio5', 'scipy.io.matlab._mio', 'scipy.io.matlab.mio', 'scipy.io.matlab.mio5', 'scipy.io.matlab.mio5_params', 'scipy.io.matlab.mio4', 'scipy.io.matlab.byteordercodes', 'scipy.io.matlab.miobase', 'scipy.io.matlab.mio_utils', 'scipy.io.matlab.streams', 'scipy.io.matlab.mio5_utils', 'scipy.io.matlab', 'scipy.io._netcdf', 'scipy.io._fortran', 'scipy.io._mmio', 'scipy.io._idl', 'scipy.io._harwell_boeing._fortran_format_parser', 'scipy.io._harwell_boeing.hb', 'scipy.io._harwell_boeing', 'scipy.io.arff._arffread', 'scipy.io.arff.arffread', 'scipy.io.arff', 'scipy.io.harwell_boeing', 'scipy.io.idl', 'scipy.io.mmio', 'scipy.io.netcdf', 'scipy.io.wavfile', 'scipy.io', 'sklearn.datasets._olivetti_faces', 'sklearn.datasets._species_distributions', 'sklearn.datasets._california_housing', 'sklearn.datasets._rcv1', 'sklearn.datasets', 'nltk.parse.transitionparser', 'nltk.parse.viterbi', 'nltk.parse', 'nltk.chunk.api', 'nltk.chunk.regexp', 'nltk.chunk', 'nltk.inference.api', 'nltk.inference.prover9', 'nltk.inference.mace', 'nltk.sem.linearlogic', 'nltk.sem.glue', 'nltk.inference.discourse', 'nltk.inference.resolution', 'nltk.inference.tableau', 'nltk.inference', 'nltk.translate.api', 'nltk.translate.ibm_model', 'nltk.translate.ibm1', 'nltk.translate.ibm2', 'nltk.translate.ibm3', 'nltk.translate.ibm4', 'nltk.translate.ibm5', 'fractions', 'nltk.translate.bleu_score', 'nltk.translate.ribes_score', 'nltk.corpus.reader.util', 'nltk.corpus.reader.api', 'nltk.corpus.reader.plaintext', 'nltk.corpus.reader.timit', 'nltk.corpus.reader.tagged', 'nltk.corpus.reader.cmudict', 'nltk.corpus.reader.conll', 'nltk.corpus.reader.bracket_parse', 'nltk.corpus.reader.chunked', 'nltk.corpus.reader.wordlist', 'nltk.corpus.reader.xmldocs', 'nltk.corpus.reader.ppattach', 'nltk.corpus.reader.senseval', 'nltk.corpus.reader.ieer', 'nltk.corpus.reader.sinica_treebank', 'nltk.corpus.reader.indian', 'nltk.toolbox', 'nltk.corpus.reader.toolbox', 'nltk.corpus.reader.ycoe', 'nltk.corpus.reader.rte', 'nltk.corpus.reader.string_category', 'nltk.corpus.reader.propbank', 'nltk.corpus.reader.verbnet', 'nltk.corpus.reader.bnc', 'nltk.corpus.reader.nps_chat', 'nltk.corpus.reader.wordnet', 'nltk.corpus.reader.switchboard', 'nltk.corpus.reader.dependency', 'nltk.corpus.reader.nombank', 'nltk.corpus.reader.ipipan', 'nltk.corpus.reader.pl196x', 'nltk.corpus.reader.knbc', 'nltk.corpus.reader.chasen', 'nltk.corpus.reader.childes', 'nltk.corpus.reader.aligned', 'nltk.corpus.reader.lin', 'nltk.corpus.reader.semcor', 'nltk.corpus.reader.framenet', 'nltk.corpus.reader.udhr', 'nltk.corpus.reader.sentiwordnet', 'nltk.corpus.reader.twitter', 'nltk.corpus.reader.nkjp', 'nltk.corpus.reader.crubadan', 'nltk.corpus.reader.mte', 'nltk.corpus.reader.reviews', 'nltk.corpus.reader.opinion_lexicon', 'nltk.corpus.reader.pros_cons', 'nltk.corpus.reader.categorized_sents', 'nltk.corpus.reader.comparative_sents', 'nltk.corpus.reader.panlex_lite', 'nltk.corpus.reader.panlex_swadesh', 'nltk.corpus.reader.bcp47', 'nltk.corpus.reader', 'nltk.corpus.util', 'nltk.corpus', 'nltk.stem.api', 'nltk.stem.arlstem', 'nltk.stem.arlstem2', 'nltk.stem.cistem', 'nltk.stem.isri', 'nltk.stem.lancaster', 'nltk.stem.porter', 'nltk.stem.regexp', 'nltk.stem.rslp', 'nltk.stem.util', 'nltk.stem.snowball', 'nltk.stem.wordnet', 'nltk.stem', 'nltk.translate.meteor_score', 'nltk.translate.metrics', 'nltk.translate.stack_decoder', 'nltk.translate.nist_score', 'nltk.translate.chrf_score', 'nltk.translate.gale_church', 'nltk.translate.gdfa', 'nltk.translate.gleu_score', 'nltk.translate.phrase_based', 'nltk.translate', 'nltk.lazyimport', 'nltk.cluster.api', 'nltk.cluster.util', 'nltk.cluster.em', 'nltk.cluster.gaac', 'nltk.cluster.kmeans', 'nltk.cluster', 'tkinter.commondialog', 'tkinter.messagebox', 'tkinter.dialog', 'tkinter.simpledialog', 'tkinter.filedialog', 'nltk.draw.util', 'nltk.draw.tree', 'nltk.draw.cfg', 'nltk.draw.table', 'nltk.draw.dispersion', 'nltk.draw', 'nltk.downloader', 'nltk.ccg.api', 'nltk.ccg.combinator', 'nltk.ccg.lexicon', 'nltk.ccg.logic', 'nltk.ccg.chart', 'nltk.ccg', 'nltk.help', 'nltk.misc.babelfish', 'nltk.misc.chomsky', 'nltk.misc.minimalset', 'nltk.misc.wordfinder', 'nltk.misc', 'nltk.wsd', 'nltk', 'encodings.cp437', 'unstructured.nlp.tokenize', 'unstructured.partition.text_type', 'unstructured.partition.text', 'unstructured.utils', 'unstructured.partition.pdf', 'pdfminer', 'pdfminer.utils', 'pdfminer.settings', 'pdfminer.psparser', 'pdfminer.pdfcolor', 'pdfminer.jbig2', 'pdfminer.glyphlist', 'pdfminer.latin_enc', 'pdfminer.encodingdb', 'pdfminer.cmapdb', 'pdfminer.fontmetrics', 'pdfminer.ascii85', 'pdfminer.ccitt', 'pdfminer.lzw', 'pdfminer.runlength', 'pdfminer.pdftypes', 'pdfminer.pdffont', 'cryptography.__about__', 'cryptography.utils', 'cryptography', 'cryptography.hazmat', 'cryptography.hazmat.backends', 'cryptography.hazmat.primitives', 'cryptography.hazmat.primitives._cipheralgorithm', 'cryptography.exceptions', 'cryptography.hazmat.primitives.ciphers.algorithms', 'cryptography.hazmat.primitives.ciphers.modes', 'cryptography.hazmat.primitives.ciphers.base', 'cryptography.hazmat.primitives.ciphers', 'pdfminer.arcfour', 'pdfminer.pdfparser', 'pdfminer.data_structures', 'pdfminer.pdfdocument', 'pdfminer.pdfpage', 'pdfminer.pdfdevice', 'pdfminer.pdfinterp', 'pdfminer.layout', 'pdfminer.image', 'pdfminer.converter', 'encodings.utf_16_be', 'pinecone.core', 'pinecone.core.grpc', 'pinecone.core.grpc.protos', 'google.protobuf', 'google.protobuf.internal', 'google.protobuf.internal._api_implementation', 'google.protobuf.internal.api_implementation', 'google.protobuf.pyext', 'google.protobuf.internal.enum_type_wrapper', 'google.protobuf.message', 'google.protobuf.pyext._message', 'google.protobuf.descriptor', 'google.protobuf.descriptor_database', 'google.protobuf.text_encoding', 'google.protobuf.descriptor_pool', 'google.protobuf.pyext.cpp_message', 'google.protobuf.message_factory', 'google.protobuf.symbol_database', 'google.protobuf.reflection', 'google.protobuf.internal.builder', 'google.protobuf.internal.well_known_types', 'google.protobuf.struct_pb2', 'pinecone.core.grpc.protos.vector_column_service_pb2', 'google.protobuf.internal.containers', 'google.protobuf.internal.wire_format', 'google.protobuf.internal.encoder', 'google.protobuf.internal.decoder', 'google.protobuf.internal.type_checkers', 'google.protobuf.json_format', 'pinecone.core.utils', 'pinecone.core.utils.constants', 'pinecone.core.exceptions', 'pinecone.core.client.exceptions', 'pinecone.core.client.rest', 'pinecone.core.client.configuration', 'pinecone.core.client.model_utils', 'pinecone.core.client.api_client', 'pinecone.core.client', 'pinecone.core.api_base', 'pinecone.core.api_action', 'pinecone.config', 'pinecone.exceptions', 'pinecone.info', 'pinecone.core.client.api', 'pinecone.core.client.model', 'pinecone.core.client.model.collection_meta', 'pinecone.core.client.model.create_collection_request', 'pinecone.core.client.model.create_request', 'pinecone.core.client.model.index_meta', 'pinecone.core.client.model.patch_request', 'pinecone.core.client.api.index_operations_api', 'pinecone.manage', 'tqdm._monitor', 'tqdm._tqdm_pandas', 'tqdm.utils', 'tqdm.std', 'tqdm._dist_ver', 'tqdm.version', 'tqdm.cli', 'tqdm.gui', 'tqdm', 'ipywidgets._version', 'ipywidgets.widgets.widget', 'ipywidgets.widgets.util', 'ipywidgets.widgets.trait_types', 'ipywidgets.widgets.widget_layout', 'ipywidgets.widgets.widget_style', 'ipywidgets.widgets.domwidget', 'ipywidgets.widgets.valuewidget', 'ipywidgets.widgets.widget_core', 'ipywidgets.widgets.widget_description', 'ipywidgets.widgets.widget_bool', 'ipywidgets.widgets.widget_button', 'ipywidgets.widgets.docutils', 'ipywidgets.widgets.widget_box', 'ipywidgets.widgets.widget_int', 'ipywidgets.widgets.widget_float', 'ipywidgets.widgets.widget_color', 'ipywidgets.widgets.widget_date', 'ipywidgets.widgets.widget_output', 'ipywidgets.widgets.widget_selection', 'ipywidgets.widgets.widget_selectioncontainer', 'ipywidgets.widgets.widget_string', 'ipywidgets.widgets.widget_controller', 'ipywidgets.widgets.interaction', 'ipywidgets.widgets.widget_link', 'ipywidgets.widgets.widget_media', 'ipywidgets.widgets.widget_templates', 'ipywidgets.widgets.widget_upload', 'ipywidgets.widgets', 'ipywidgets', 'tqdm.notebook', 'tqdm.autonotebook', 'pinecone.core.client.model.sparse_values', 'pinecone.core.client.model.approximated_config', 'pinecone.core.client.model.delete_request', 'pinecone.core.client.model.describe_index_stats_request', 'pinecone.core.client.model.describe_index_stats_response', 'pinecone.core.client.model.fetch_response', 'pinecone.core.client.model.hnsw_config', 'pinecone.core.client.model.index_meta_database', 'pinecone.core.client.model.index_meta_database_status', 'pinecone.core.client.model.namespace_summary', 'pinecone.core.client.model.protobuf_any', 'pinecone.core.client.model.protobuf_null_value', 'pinecone.core.client.model.query_request', 'pinecone.core.client.model.query_response', 'pinecone.core.client.model.query_vector', 'pinecone.core.client.model.rpc_status', 'pinecone.core.client.model.scored_vector', 'pinecone.core.client.model.single_query_results', 'pinecone.core.client.model.update_request', 'pinecone.core.client.model.upsert_request', 'pinecone.core.client.model.upsert_response', 'pinecone.core.client.model.vector', 'pinecone.core.client.models', 'pinecone.core.client.api.vector_operations_api', 'pinecone.core.utils.error_handling', 'pinecone.index', 'grpc._cython', 'grpc._cython.cygrpc', 'grpc._typing', 'grpc._compression', 'grpc._runtime_protos', 'grpc._grpcio_metadata', 'grpc.aio._metadata', 'grpc.aio._typing', 'grpc.aio._base_call', 'grpc.aio._base_channel', 'grpc.aio._base_server', 'grpc._common', 'grpc.aio._call', 'grpc.aio._utils', 'grpc.aio._interceptor', 'grpc.aio._channel', 'grpc.aio._server', 'grpc.aio', 'grpc', 'grpc._simple_stubs', 'grpc.experimental', 'grpc._channel', 'google.api', 'google.api.http_pb2', 'google.protobuf.descriptor_pb2', 'google.api.annotations_pb2', 'google.api.field_behavior_pb2', 'pinecone', 'openai.error', 'openai.util', 'openai.version', 'openai.openai_response', 'openai.api_requestor', 'openai.openai_object', 'openai.api_resources.abstract.api_resource', 'openai.api_resources.abstract.createable_api_resource', 'openai.api_resources.abstract.deletable_api_resource', 'openai.api_resources.abstract.listable_api_resource', 'openai.api_resources.abstract.nested_resource_class_methods', 'openai.api_resources.abstract.updateable_api_resource', 'openai.api_resources.abstract', 'openai.api_resources.audio', 'openai.api_resources.abstract.engine_api_resource', 'openai.api_resources.chat_completion', 'openai.api_resources.completion', 'openai.api_resources.customer', 'openai.api_resources.deployment', 'openai.api_resources.edit', 'pytz.exceptions', 'pytz.lazy', 'pytz.tzinfo', 'pytz.tzfile', 'pytz', 'pandas._typing', 'pandas._libs.tslibs.np_datetime', 'pandas._libs.tslibs.dtypes', 'pandas._libs.tslibs.base', 'pandas.util._exceptions', 'pandas._libs.tslibs.nattype', 'pandas.util.version', 'pandas.compat._optional', 'zoneinfo._tzpath', 'zoneinfo._common', '_zoneinfo', 'zoneinfo', 'pandas._libs.tslibs.timezones', 'pandas._libs.tslibs.tzconversion', 'pandas._libs.tslibs.ccalendar', 'pandas._config.config', 'pandas._config.dates', 'pandas._config.display', 'pandas._config', 'pandas._config.localization', 'pandas._libs.tslibs.fields', 'pandas._libs.tslibs.timedeltas', 'pandas._libs.tslibs.timestamps', 'dateutil.easter', 'pandas._libs.properties', 'pandas._libs.tslibs.offsets', 'pandas._libs.tslibs.parsing', 'pandas._libs.tslibs.conversion', 'pandas._libs.tslibs.period', 'pandas._libs.tslibs.vectorized', 'pandas._libs.tslibs', 'pandas._libs.ops_dispatch', 'pandas._libs.missing', 'pandas._libs.hashtable', 'pandas._libs.algos', 'pandas._libs.interval', 'pandas._libs', 'pandas.util._decorators', 'pandas.core', 'pandas.core.util', 'pandas._libs.tslib', 'pandas._libs.lib', 'pandas._libs.hashing', 'pandas.core.dtypes', 'pandas.errors', 'pandas.core.dtypes.generic', 'pandas.core.dtypes.base', 'pandas.core.dtypes.inference', 'pandas.core.dtypes.dtypes', 'pandas.core.dtypes.common', 'pandas.core.util.hashing', 'pandas.util', 'pandas.compat.numpy', 'pyarrow._generated_version', 'cloudpickle.compat', 'cloudpickle.cloudpickle', 'cloudpickle.cloudpickle_fast', 'cloudpickle', 'pyarrow.util', 'pyarrow.lib', 'pyarrow._hdfsio', 'pyarrow.filesystem', 'pyarrow.hdfs', 'pyarrow.ipc', 'pyarrow.serialization', 'pyarrow.types', 'pyarrow', 'pandas.compat.pyarrow', 'pandas.compat', 'pandas.core.config_init', 'pandas.core.dtypes.missing', 'pandas.util._validators', 'pandas.core.dtypes.astype', 'pandas.core.dtypes.cast', 'pandas.core.dtypes.concat', 'pandas.core.array_algos', 'pandas.core.common', 'pandas.core.construction', 'pandas.core.array_algos.take', 'pandas.core.indexers.utils', 'pandas.core.indexers', 'pandas.core.algorithms', 'pandas.core.roperator', 'pandas._libs.ops', 'pandas.core.computation', 'numexpr.interpreter', 'numexpr.expressions', 'numexpr.version', 'numexpr.utils', 'numexpr.necompiler', 'numexpr', 'pandas.core.computation.check', 'pandas.core.computation.expressions', 'pandas.core.ops.missing', 'pandas.core.ops.dispatch', 'pandas.core.ops.invalid', 'pandas.core.ops.array_ops', 'pandas.core.ops.common', 'pandas.core.ops.docstrings', 'pandas.core.ops.mask_ops', 'pandas.core.ops.methods', 'pandas.core.ops', 'pandas.core.arraylike', 'pandas.compat.numpy.function', 'pandas.core.missing', 'pandas.core.array_algos.quantile', 'pandas.core.sorting', 'pandas.core.arrays.base', 'pyarrow._compute', 'pyarrow._compute_docstrings', 'pyarrow.vendored', 'pyarrow.vendored.docscrape', 'pyarrow.compute', 'pandas.core.arrays.arrow._arrow_utils', 'pandas.core.arrays.arrow.dtype', 'pandas.core.arrays.arrow.array', 'pandas.core.arrays.arrow', 'pandas.core.nanops', 'pandas.core.array_algos.masked_reductions', 'pandas.core.arrays.masked', 'pandas.core.arrays.boolean', 'pandas._libs.arrays', 'pandas.core.accessor', 'pandas.core.array_algos.transforms', 'pandas.core.arrays._mixins', 'pandas.core.base', 'pandas.core.strings.accessor', 'pandas.core.strings.base', 'pandas.core.strings', 'pandas.core.strings.object_array', 'pandas.io', 'pandas.io.formats', 'pandas.io.formats.console', 'pandas.core.arrays.categorical', 'pandas.core.arrays.numeric', 'pandas.core.arrays.integer', 'pandas.tseries', 'pandas.tseries.frequencies', 'pandas.core.arrays.datetimelike', 'pandas.core.arrays._ranges', 'pandas.tseries.offsets', 'pandas.core.arrays.datetimes', 'pandas.core.arrays.floating', 'pandas.core.indexes', 'pandas._libs.index', 'pandas._libs.join', 'pandas.core.array_algos.putmask', 'pandas._libs.sparse', 'pandas.core.arrays.sparse.dtype', 'pandas.io.formats.printing', 'pandas.core.arrays.sparse.array', 'pandas.core.arrays.sparse.accessor', 'pandas.core.arrays.sparse', 'pandas.core.arrays.numpy_', 'pandas.core.arrays.string_', 'pandas.core.indexes.frozen', 'pandas.core.indexes.base', 'pandas.core.arrays.interval', 'pandas.core.arrays.period', 'pandas.core.arrays.string_arrow', 'pandas.core.arrays.timedeltas', 'pandas.core.arrays', 'pandas.core.flags', 'pandas._libs.reduction', 'pandas.core.apply', 'pandas._libs.indexing', 'pandas.core.indexes.extension', 'pandas.core.indexes.category', 'pandas.core.indexes.numeric', 'pandas.core.indexes.range', 'pandas.core.tools', 'pandas.core.tools.timedeltas', 'pandas.core.indexes.datetimelike', 'pandas.core.tools.times', 'pandas.core.indexes.datetimes', 'pandas.core.indexes.multi', 'pandas.core.indexes.timedeltas', 'pandas.core.indexes.interval', 'pandas.core.indexes.period', 'pandas.core.indexes.api', 'pandas.core.indexing', 'pandas.core.sample', 'pandas.core.array_algos.replace', 'pandas.core.reshape', 'pandas._libs.internals', 'pandas._libs.writers', 'pandas.core.internals.blocks', 'pandas.core.internals.api', 'pandas.core.internals.base', 'pandas.core.internals.array_manager', 'pandas.core.internals.ops', 'pandas.core.internals.managers', 'pandas.core.internals.concat', 'pandas.core.internals', 'pandas.core.reshape.concat', 'pandas.core.shared_docs', 'pandas.io.common', 'pandas.io.formats.format', 'pandas.core.describe', 'pandas.core.internals.construction', 'pandas._libs.window', 'pandas._libs.window.aggregations', 'pandas._libs.window.indexers', 'pandas.core.indexers.objects', 'pandas.core.util.numba_', 'pandas.core.window.common', 'pandas.core.window.doc', 'pandas.core.window.numba_', 'pandas.core.window.online', 'pandas.core._numba', 'pandas.core._numba.executor', 'pandas.core.window.rolling', 'pandas.core.window.ewm', 'pandas.core.window.expanding', 'pandas.core.window', 'pandas.core.generic', 'pandas.core.reshape.util', 'pandas.core.tools.numeric', 'pandas.core.reshape.melt', 'pandas._libs.reshape', 'pandas.core.indexes.accessors', 'pandas._libs.tslibs.strptime', 'pandas.arrays', 'pandas.core.tools.datetimes', 'pandas.io.formats.info', 'pandas.plotting._core', 'pandas.plotting._misc', 'pandas.plotting', 'pandas.core.series', 'pandas.core.frame', 'pandas.core.groupby.base', 'pandas._libs.groupby', 'pandas.core.groupby.numba_', 'pandas.core.groupby.categorical', 'pandas.core.groupby.grouper', 'pandas.core.groupby.ops', 'pandas.core.groupby.indexing', 'pandas.core.groupby.groupby', 'pandas.core.groupby.generic', 'pandas.core.groupby', 'pandas.core.api', 'pandas.tseries.api', 'pandas.core.computation.common', 'pandas.core.computation.align', 'pandas.compat.chainmap', 'pandas.core.computation.scope', 'pandas.core.computation.ops', 'pandas.core.computation.engines', 'pandas.core.computation.parsing', 'pandas.core.computation.expr', 'pandas.core.computation.eval', 'pandas.core.computation.api', 'pandas.core.reshape.encoding', 'pandas.core.reshape.merge', 'pandas.core.reshape.pivot', 'pandas.core.reshape.tile', 'pandas.core.reshape.api', 'pandas.api.extensions', 'pandas.api.indexers', 'pandas.core.interchange', 'pandas.core.interchange.dataframe_protocol', 'pandas.core.dtypes.api', 'pandas.api.types', 'pandas.core.interchange.buffer', 'pandas.core.interchange.utils', 'pandas.core.interchange.column', 'pandas.core.interchange.from_dataframe', 'pandas.api.interchange', 'pandas.api', 'pandas._testing._random', 'pandas._testing.contexts', 'pandas._testing._io', 'pandas._testing._warnings', 'cmath', 'pandas._libs.testing', 'pandas._testing.asserters', 'pandas._testing.compat', 'pandas._testing', 'pandas.testing', 'pandas.util._print_versions', 'pandas.io.clipboards', 'pandas._libs.parsers', 'pandas.io.excel._util', 'pandas.io.date_converters', 'pandas.io.parsers.base_parser', 'pandas.io.parsers.arrow_parser_wrapper', 'pandas.io.parsers.c_parser_wrapper', 'pandas.io.parsers.python_parser', 'pandas.io.parsers.readers', 'pandas.io.parsers', 'pandas.io.excel._odfreader', 'pandas.io.excel._openpyxl', 'pandas.io.excel._pyxlsb', 'pandas.io.excel._xlrd', 'pandas.io.excel._base', 'pandas._libs.json', 'pandas.io.excel._odswriter', 'pandas.io.excel._xlsxwriter', 'pandas.io.excel._xlwt', 'pandas.io.excel', 'pandas.io.feather_format', 'pandas.io.gbq', 'pandas.io.html', 'pandas.io.json._normalize', 'pandas.io.json._table_schema', 'pandas.io.json._json', 'pandas.io.json', 'pandas.io.orc', 'pandas.io.parquet', 'pandas.compat.pickle_compat', 'pandas.io.pickle', 'pandas.core.computation.pytables', 'pandas.io.pytables', 'pandas.io.sas.sasreader', 'pandas.io.sas', 'pandas.io.spss', 'pandas.io.sql', 'pandas.io.stata', 'pandas.io.xml', 'pandas.io.api', 'pandas.util._tester', 'pandas._version', 'pandas', 'openai.datalib', 'openai.api_resources.embedding', 'openai.api_resources.engine', 'openai.api_resources.error_object', 'openai.api_resources.file', 'openai.api_resources.fine_tune', 'openai.api_resources.image', 'openai.api_resources.model', 'openai.api_resources.moderation', 'openai.api_resources', 'openai', 'tiktoken._tiktoken', 'tiktoken.core', 'tiktoken_ext', 'tiktoken.registry', 'tiktoken.model', 'tiktoken', 'tiktoken.load', 'tiktoken_ext.openai_public', 'openai.api_resources.experimental.completion_config', 'openai.api_resources.experimental', 'openai.object_classes'])\n"
          ]
        }
      ]
    }
  ]
}