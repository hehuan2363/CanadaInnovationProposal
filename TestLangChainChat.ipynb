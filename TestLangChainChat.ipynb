{
  "nbformat": 4,
  "nbformat_minor": 0,
  "metadata": {
    "colab": {
      "provenance": [],
      "authorship_tag": "ABX9TyOwnrCaYZlE/3HNOoaVNf9C",
      "include_colab_link": true
    },
    "kernelspec": {
      "name": "python3",
      "display_name": "Python 3"
    },
    "language_info": {
      "name": "python"
    }
  },
  "cells": [
    {
      "cell_type": "markdown",
      "metadata": {
        "id": "view-in-github",
        "colab_type": "text"
      },
      "source": [
        "<a href=\"https://colab.research.google.com/github/hehuan2363/CanadaInnovationProposal/blob/main/TestLangChainChat.ipynb\" target=\"_parent\"><img src=\"https://colab.research.google.com/assets/colab-badge.svg\" alt=\"Open In Colab\"/></a>"
      ]
    },
    {
      "cell_type": "code",
      "execution_count": 1,
      "metadata": {
        "colab": {
          "base_uri": "https://localhost:8080/"
        },
        "id": "VJ8Wt45Um3aG",
        "outputId": "c26457a2-a0ab-448b-e1af-d3d0177f33bb"
      },
      "outputs": [
        {
          "output_type": "stream",
          "name": "stdout",
          "text": [
            "\u001b[2K     \u001b[90m━━━━━━━━━━━━━━━━━━━━━━━━━━━━━━━━━━━━━━━\u001b[0m \u001b[32m540.8/540.8 kB\u001b[0m \u001b[31m4.0 MB/s\u001b[0m eta \u001b[36m0:00:00\u001b[0m\n",
            "\u001b[2K     \u001b[90m━━━━━━━━━━━━━━━━━━━━━━━━━━━━━━━━━━━━━━━━\u001b[0m \u001b[32m70.3/70.3 kB\u001b[0m \u001b[31m1.4 MB/s\u001b[0m eta \u001b[36m0:00:00\u001b[0m\n",
            "\u001b[2K     \u001b[90m━━━━━━━━━━━━━━━━━━━━━━━━━━━━━━━━━━━━━━━━\u001b[0m \u001b[32m1.0/1.0 MB\u001b[0m \u001b[31m7.6 MB/s\u001b[0m eta \u001b[36m0:00:00\u001b[0m\n",
            "\u001b[2K     \u001b[90m━━━━━━━━━━━━━━━━━━━━━━━━━━━━━━━━━━━━━━━━\u001b[0m \u001b[32m1.6/1.6 MB\u001b[0m \u001b[31m14.2 MB/s\u001b[0m eta \u001b[36m0:00:00\u001b[0m\n",
            "\u001b[2K     \u001b[90m━━━━━━━━━━━━━━━━━━━━━━━━━━━━━━━━━━━━━━━━\u001b[0m \u001b[32m90.0/90.0 kB\u001b[0m \u001b[31m4.4 MB/s\u001b[0m eta \u001b[36m0:00:00\u001b[0m\n",
            "\u001b[2K     \u001b[90m━━━━━━━━━━━━━━━━━━━━━━━━━━━━━━━━━━━━━━━━\u001b[0m \u001b[32m48.2/48.2 kB\u001b[0m \u001b[31m2.8 MB/s\u001b[0m eta \u001b[36m0:00:00\u001b[0m\n",
            "\u001b[2K     \u001b[90m━━━━━━━━━━━━━━━━━━━━━━━━━━━━━━━━━━━━━━━\u001b[0m \u001b[32m114.2/114.2 kB\u001b[0m \u001b[31m2.4 MB/s\u001b[0m eta \u001b[36m0:00:00\u001b[0m\n",
            "\u001b[2K     \u001b[90m━━━━━━━━━━━━━━━━━━━━━━━━━━━━━━━━━━━━━━━\u001b[0m \u001b[32m264.6/264.6 kB\u001b[0m \u001b[31m7.6 MB/s\u001b[0m eta \u001b[36m0:00:00\u001b[0m\n",
            "\u001b[2K     \u001b[90m━━━━━━━━━━━━━━━━━━━━━━━━━━━━━━━━━━━━━━━\u001b[0m \u001b[32m158.8/158.8 kB\u001b[0m \u001b[31m7.2 MB/s\u001b[0m eta \u001b[36m0:00:00\u001b[0m\n",
            "\u001b[2K     \u001b[90m━━━━━━━━━━━━━━━━━━━━━━━━━━━━━━━━━━━━━━━\u001b[0m \u001b[32m49.1/49.1 kB\u001b[0m \u001b[31m537.6 kB/s\u001b[0m eta \u001b[36m0:00:00\u001b[0m\n",
            "\u001b[?25h"
          ]
        }
      ],
      "source": [
        "!pip install -qU langchain openai"
      ]
    },
    {
      "cell_type": "code",
      "source": [
        "from getpass import getpass\n",
        "\n",
        "OPENAI_API_KEY=getpass(\"OpenAI API Key: \")"
      ],
      "metadata": {
        "colab": {
          "base_uri": "https://localhost:8080/"
        },
        "id": "uEn19aKrnEuZ",
        "outputId": "ceb77b4f-ce4a-498d-f12e-cfd4770d6192"
      },
      "execution_count": 2,
      "outputs": [
        {
          "name": "stdout",
          "output_type": "stream",
          "text": [
            "OpenAI API Key: ··········\n"
          ]
        }
      ]
    },
    {
      "cell_type": "code",
      "source": [
        "from langchain.chat_models import ChatOpenAI\n",
        "\n",
        "chat = ChatOpenAI(\n",
        "    openai_api_key=OPENAI_API_KEY,\n",
        "    temperature=0,\n",
        "    model='gpt-3.5-turbo'\n",
        ")"
      ],
      "metadata": {
        "id": "fWMdUmrlnR2e"
      },
      "execution_count": 4,
      "outputs": []
    },
    {
      "cell_type": "code",
      "source": [
        "from langchain.schema import(\n",
        "    SystemMessage,\n",
        "    HumanMessage,\n",
        "    AIMessage\n",
        ")\n",
        "\n",
        "messages= [\n",
        "    SystemMessage(content = \"You are a helpful assisstant\"),\n",
        "    HumanMessage(content =\"Hi, Ai, How are you doing today?\"),\n",
        "    AIMessage(content = \"I'm great thank you. How can I help you?\"),\n",
        "    HumanMessage(content = \"I'd like to understand string theory.\")\n",
        "]"
      ],
      "metadata": {
        "id": "xynhP84-niOD"
      },
      "execution_count": 5,
      "outputs": []
    },
    {
      "cell_type": "code",
      "source": [
        "res = chat(messages)\n",
        "res"
      ],
      "metadata": {
        "colab": {
          "base_uri": "https://localhost:8080/"
        },
        "id": "U8XaTvgwof4H",
        "outputId": "a040de67-8118-470b-a5c6-c24e6a1c3352"
      },
      "execution_count": 6,
      "outputs": [
        {
          "output_type": "execute_result",
          "data": {
            "text/plain": [
              "AIMessage(content='Sure, I can help you with that. String theory is a theoretical framework in physics that attempts to reconcile quantum mechanics and general relativity. It proposes that the fundamental building blocks of the universe are not point-like particles, but rather tiny, one-dimensional \"strings\" that vibrate at different frequencies.\\n\\nThese strings are incredibly small, with a length scale of around 10^-33 centimeters, which is much smaller than the smallest particle that can be observed with current technology. The different vibrational modes of the strings correspond to different particles, such as photons, electrons, and quarks.\\n\\nOne of the key features of string theory is that it requires the existence of extra dimensions beyond the three spatial dimensions and one time dimension that we experience in our everyday lives. These extra dimensions are thought to be \"compactified\" or curled up into tiny, almost imperceptible shapes.\\n\\nString theory has the potential to unify all of the fundamental forces of nature, including gravity, electromagnetism, and the strong and weak nuclear forces. However, it is still a highly speculative and controversial theory, and there is currently no experimental evidence to support it.', additional_kwargs={})"
            ]
          },
          "metadata": {},
          "execution_count": 6
        }
      ]
    },
    {
      "cell_type": "code",
      "source": [
        "print(res.content)"
      ],
      "metadata": {
        "colab": {
          "base_uri": "https://localhost:8080/"
        },
        "id": "K376a3Q6ojLW",
        "outputId": "6897f23e-d703-4b38-b306-34b805a7484e"
      },
      "execution_count": 7,
      "outputs": [
        {
          "output_type": "stream",
          "name": "stdout",
          "text": [
            "Sure, I can help you with that. String theory is a theoretical framework in physics that attempts to reconcile quantum mechanics and general relativity. It proposes that the fundamental building blocks of the universe are not point-like particles, but rather tiny, one-dimensional \"strings\" that vibrate at different frequencies.\n",
            "\n",
            "These strings are incredibly small, with a length scale of around 10^-33 centimeters, which is much smaller than the smallest particle that can be observed with current technology. The different vibrational modes of the strings correspond to different particles, such as photons, electrons, and quarks.\n",
            "\n",
            "One of the key features of string theory is that it requires the existence of extra dimensions beyond the three spatial dimensions and one time dimension that we experience in our everyday lives. These extra dimensions are thought to be \"compactified\" or curled up into tiny, almost imperceptible shapes.\n",
            "\n",
            "String theory has the potential to unify all of the fundamental forces of nature, including gravity, electromagnetism, and the strong and weak nuclear forces. However, it is still a highly speculative and controversial theory, and there is currently no experimental evidence to support it.\n"
          ]
        }
      ]
    },
    {
      "cell_type": "code",
      "source": [
        "messages.append(res)\n",
        "\n",
        "prompt = HumanMessage(\n",
        "    content=\"Why do physicists believe it can produce a 'unified theory'?\"\n",
        ")\n",
        "\n",
        "messages.append(prompt)\n",
        "\n",
        "res = chat(messages)\n",
        "print(res.content)"
      ],
      "metadata": {
        "colab": {
          "base_uri": "https://localhost:8080/"
        },
        "id": "iaIGks3NoqnY",
        "outputId": "ffe81077-c74e-46e1-9ff6-f7d5f321be7c"
      },
      "execution_count": 8,
      "outputs": [
        {
          "output_type": "stream",
          "name": "stdout",
          "text": [
            "Physicists believe that string theory has the potential to produce a unified theory because it provides a framework for describing all the fundamental particles and forces of nature in a single, coherent mathematical framework. In other words, it attempts to unify the two pillars of modern physics: quantum mechanics and general relativity.\n",
            "\n",
            "One of the key features of string theory is that it predicts the existence of gravity, which is not included in the Standard Model of particle physics. This is important because gravity is one of the four fundamental forces of nature, and it plays a crucial role in the behavior of large-scale objects like planets and galaxies.\n",
            "\n",
            "Another reason why physicists believe that string theory can produce a unified theory is that it provides a way to reconcile the seemingly incompatible theories of quantum mechanics and general relativity. These two theories have been incredibly successful in their respective domains, but they are fundamentally different in their approach to describing the universe. String theory attempts to bridge this gap by describing the universe in terms of tiny, vibrating strings, which can be described using both quantum mechanics and general relativity.\n",
            "\n",
            "However, it's important to note that string theory is still a highly speculative and controversial theory, and there is currently no experimental evidence to support it. Many physicists are still working to develop and refine the theory, and it remains an active area of research in theoretical physics.\n"
          ]
        }
      ]
    },
    {
      "cell_type": "code",
      "source": [],
      "metadata": {
        "id": "5dAtARAcpBgj"
      },
      "execution_count": null,
      "outputs": []
    }
  ]
}